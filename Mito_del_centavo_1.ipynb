{
 "cells": [
  {
   "cell_type": "markdown",
   "metadata": {},
   "source": [
    "# Modelación y simulación en Python\n",
    "\n",
    "Modelación\n"
   ]
  },
  {
   "cell_type": "markdown",
   "metadata": {},
   "source": [
    "### Importando modsim\n",
    "\n",
    "La siguiente celda importa `modsim`, la cual es una colección de funciones. Hace dos cosas:\n",
    "\n",
    "1.  Usa un \"comando mágico\" para especificar si las figuras deberían aparecer en el cuaderno o aparecer en una nueva ventana.\n",
    "\n",
    "2.  Importa todo lo definido en `modsim`.\n",
    "\n",
    "Seleccione la siguiente celda y presione SHIFT-ENTER para correrla."
   ]
  },
  {
   "cell_type": "code",
   "execution_count": 1,
   "metadata": {},
   "outputs": [
    {
     "name": "stderr",
     "output_type": "stream",
     "text": [
      "Vendor:  Continuum Analytics, Inc.\n",
      "Package: mkl\n",
      "Message: trial mode expires in 30 days\n",
      "modsim.py depends on Python 3.6 features.\n"
     ]
    },
    {
     "name": "stdout",
     "output_type": "stream",
     "text": [
      "Si esta celda corre exitosamente, mostrará solamente este mensaje.\n"
     ]
    }
   ],
   "source": [
    "# If you want the figures to appear in the notebook, \n",
    "# and you want to interact with them, use\n",
    "# %matplotlib notebook\n",
    "\n",
    "# If you want the figures to appear in the notebook, \n",
    "# and you don't want to interact with them, use\n",
    "# %matplotlib inline\n",
    "\n",
    "# If you want the figures to appear in separate windows, use\n",
    "# %matplotlib qt5\n",
    "\n",
    "# To switch from one to another, you have to select Kernel->Restart\n",
    "\n",
    "%matplotlib notebook\n",
    "\n",
    "from modsim import *\n",
    "\n",
    "print('Si esta celda corre exitosamente, mostrará solamente este mensaje.')"
   ]
  },
  {
   "cell_type": "markdown",
   "metadata": {},
   "source": [
    "## El mito del centavo\n",
    "\n",
    "`modsim` define `UNITS`, la cual contiene variables que representan cada unidad existente.  Las siguientes líneas crean nuevas variables llamadas `meter` y `second` (Unidades de Pint)."
   ]
  },
  {
   "cell_type": "code",
   "execution_count": 3,
   "metadata": {
    "collapsed": true
   },
   "outputs": [],
   "source": [
    "meter = UNITS.meter\n",
    "second = UNITS.second"
   ]
  },
  {
   "cell_type": "markdown",
   "metadata": {},
   "source": [
    "Para averiguar qué unidades están definidas, escriba 'UNITS'. (incluido el punto) en la celda siguiente y luego presione TAB. Debería ver un menú emergente con una lista de unidades."
   ]
  },
  {
   "cell_type": "code",
   "execution_count": null,
   "metadata": {
    "collapsed": true,
    "scrolled": true
   },
   "outputs": [],
   "source": []
  },
  {
   "cell_type": "markdown",
   "metadata": {},
   "source": [
    "Crea una variable llamada 'a' y muestre su valor:"
   ]
  },
  {
   "cell_type": "code",
   "execution_count": 4,
   "metadata": {},
   "outputs": [
    {
     "data": {
      "text/html": [
       "9.8 meter/second<sup>2</sup>"
      ],
      "text/latex": [
       "$9.8\\ \\frac{\\mathrm{meter}}{\\mathrm{second}^{2}}$"
      ],
      "text/plain": [
       "<Quantity(9.8, 'meter / second ** 2')>"
      ]
     },
     "execution_count": 4,
     "metadata": {},
     "output_type": "execute_result"
    }
   ],
   "source": [
    "a = 9.8 * meter / second**2\n",
    "a"
   ]
  },
  {
   "cell_type": "markdown",
   "metadata": {
    "collapsed": true
   },
   "source": [
    "Crea 't' y visualiza su valor:"
   ]
  },
  {
   "cell_type": "code",
   "execution_count": 5,
   "metadata": {},
   "outputs": [
    {
     "data": {
      "text/html": [
       "4 second"
      ],
      "text/latex": [
       "$4\\ \\mathrm{second}$"
      ],
      "text/plain": [
       "<Quantity(4, 'second')>"
      ]
     },
     "execution_count": 5,
     "metadata": {},
     "output_type": "execute_result"
    }
   ],
   "source": [
    "t = 4 * second\n",
    "t"
   ]
  },
  {
   "cell_type": "markdown",
   "metadata": {
    "collapsed": true
   },
   "source": [
    "Si crea una variable y no muestra el valor, no obtendrá ningún resultado:"
   ]
  },
  {
   "cell_type": "code",
   "execution_count": 6,
   "metadata": {},
   "outputs": [
    {
     "data": {
      "text/html": [
       "78.4 meter"
      ],
      "text/latex": [
       "$78.4\\ \\mathrm{meter}$"
      ],
      "text/plain": [
       "<Quantity(78.4, 'meter')>"
      ]
     },
     "execution_count": 6,
     "metadata": {},
     "output_type": "execute_result"
    }
   ],
   "source": [
    "h = a * t**2 / 2\n",
    "h"
   ]
  },
  {
   "cell_type": "markdown",
   "metadata": {
    "collapsed": true
   },
   "source": [
    "Agregue una segunda línea a la celda anterior para mostrar el valor de `h`.\n",
    "\n",
    "Ahora solucionemos el problema de la caída del centavo. Las siguientes líneas establecen `h` a la altura del edificio del Empire State y calculan el tiempo que tardaría un centavo en caer, suponiendo una aceleración constante.\n"
   ]
  },
  {
   "cell_type": "code",
   "execution_count": 7,
   "metadata": {},
   "outputs": [
    {
     "data": {
      "text/html": [
       "8.817885349720552 second"
      ],
      "text/latex": [
       "$8.817885349720552\\ \\mathrm{second}$"
      ],
      "text/plain": [
       "<Quantity(8.817885349720552, 'second')>"
      ]
     },
     "execution_count": 7,
     "metadata": {},
     "output_type": "execute_result"
    }
   ],
   "source": [
    "h = 381 * meter\n",
    "t = sqrt(2 * h / a)\n",
    "t"
   ]
  },
  {
   "cell_type": "markdown",
   "metadata": {
    "collapsed": true
   },
   "source": [
    "Dado 't', podemos calcular la velocidad del centavo cuando aterriza."
   ]
  },
  {
   "cell_type": "code",
   "execution_count": 8,
   "metadata": {},
   "outputs": [
    {
     "data": {
      "text/html": [
       "86.41527642726142 meter/second"
      ],
      "text/latex": [
       "$86.41527642726142\\ \\frac{\\mathrm{meter}}{\\mathrm{second}}$"
      ],
      "text/plain": [
       "<Quantity(86.41527642726142, 'meter / second')>"
      ]
     },
     "execution_count": 8,
     "metadata": {},
     "output_type": "execute_result"
    }
   ],
   "source": [
    "v = a * t\n",
    "v"
   ]
  },
  {
   "cell_type": "markdown",
   "metadata": {
    "collapsed": true
   },
   "source": [
    "Podemos convertir de un conjunto de unidades a otro asi:"
   ]
  },
  {
   "cell_type": "code",
   "execution_count": 9,
   "metadata": {
    "collapsed": true
   },
   "outputs": [],
   "source": [
    "mile = UNITS.mile\n",
    "hour= UNITS.hour"
   ]
  },
  {
   "cell_type": "code",
   "execution_count": 10,
   "metadata": {},
   "outputs": [
    {
     "data": {
      "text/html": [
       "193.30546802805438 mile/hour"
      ],
      "text/latex": [
       "$193.30546802805438\\ \\frac{\\mathrm{mile}}{\\mathrm{hour}}$"
      ],
      "text/plain": [
       "<Quantity(193.30546802805438, 'mile / hour')>"
      ]
     },
     "execution_count": 10,
     "metadata": {},
     "output_type": "execute_result"
    }
   ],
   "source": [
    "v.to(mile/hour)"
   ]
  },
  {
   "cell_type": "code",
   "execution_count": 21,
   "metadata": {},
   "outputs": [
    {
     "data": {
      "text/html": [
       "<iframe width=\"560\" height=\"315\" src=\"https://www.youtube.com/embed/PHxvMLoKRWg\" frameborder=\"0\" allow=\"autoplay; encrypted-media\" allowfullscreen></iframe>"
      ],
      "text/plain": [
       "<IPython.core.display.HTML object>"
      ]
     },
     "metadata": {},
     "output_type": "display_data"
    }
   ],
   "source": [
    "%%HTML\n",
    "<iframe width=\"560\" height=\"315\" src=\"https://www.youtube.com/embed/PHxvMLoKRWg\" frameborder=\"0\" allow=\"autoplay; encrypted-media\" allowfullscreen></iframe>\n"
   ]
  },
  {
   "cell_type": "markdown",
   "metadata": {},
   "source": [
    "**Ejercicio**:\n",
    "En realidad, la resistencia del aire evita que el centavo alcance esta velocidad. Aproximadamente a unos 20 metros por segundo, la fuerza de la resistencia del aire es igual a la fuerza de la gravedad y el centavo deja de acelerarse.\n",
    "\n",
    "Como simplificación, supongamos que la aceleración del centavo es \"a\" hasta que el centavo alcance los 20 metros por segundo, y despues 0. ¿Cuál es el tiempo total para que el centavo caiga 381 metros?\n"
   ]
  },
  {
   "cell_type": "markdown",
   "metadata": {},
   "source": [
    "Solución:\n",
    "\n",
    "Empezaremos por obtener las unidades que necesitaremos de Pint."
   ]
  },
  {
   "cell_type": "code",
   "execution_count": 11,
   "metadata": {
    "collapsed": true
   },
   "outputs": [],
   "source": [
    "m = UNITS.meter\n",
    "s = UNITS.second\n",
    "kg = UNITS.kilogram"
   ]
  },
  {
   "cell_type": "markdown",
   "metadata": {},
   "source": [
    "Y definiendo el estado inicial."
   ]
  },
  {
   "cell_type": "code",
   "execution_count": 12,
   "metadata": {},
   "outputs": [
    {
     "data": {
      "text/html": [
       "<div>\n",
       "<table border=\"1\" class=\"dataframe\">\n",
       "  <thead>\n",
       "    <tr style=\"text-align: right;\">\n",
       "      <th></th>\n",
       "      <th>value</th>\n",
       "    </tr>\n",
       "  </thead>\n",
       "  <tbody>\n",
       "    <tr>\n",
       "      <th>v</th>\n",
       "      <td>0.0 meter / second</td>\n",
       "    </tr>\n",
       "    <tr>\n",
       "      <th>y</th>\n",
       "      <td>381 meter</td>\n",
       "    </tr>\n",
       "  </tbody>\n",
       "</table>\n",
       "</div>"
      ],
      "text/plain": [
       "v    0.0 meter / second\n",
       "y             381 meter\n",
       "dtype: object"
      ]
     },
     "execution_count": 12,
     "metadata": {},
     "output_type": "execute_result"
    }
   ],
   "source": [
    "init = State(y=381 * m, \n",
    "             v=0 * m/s)\n",
    "init"
   ]
  },
  {
   "cell_type": "markdown",
   "metadata": {},
   "source": [
    "La aceleración debida a la gravedad es de aproximadamente 9.8 m / s $ ^ 2 $"
   ]
  },
  {
   "cell_type": "code",
   "execution_count": 13,
   "metadata": {
    "collapsed": true
   },
   "outputs": [],
   "source": [
    "g = 9.8 * m/s**2"
   ]
  },
  {
   "cell_type": "markdown",
   "metadata": {},
   "source": [
    "Cuando llamamos a odeint (investigar que es oident y que es linspace), necesitamos una lista de marcas de tiempo donde queremos calcular la solución.\n",
    "\n",
    "Comenzaremos con una duración de 10 segundos."
   ]
  },
  {
   "cell_type": "code",
   "execution_count": 21,
   "metadata": {},
   "outputs": [
    {
     "data": {
      "text/plain": [
       "array([  0.,   1.,   2.,   3.,   4.,   5.,   6.,   7.,   8.,   9.,  10.])"
      ]
     },
     "execution_count": 21,
     "metadata": {},
     "output_type": "execute_result"
    }
   ],
   "source": [
    "import numpy as np\n",
    "\n",
    "\n",
    "duration = 10 * s\n",
    "#ts = np.linspace(0, duration, 11)\n",
    "ts = np.linspace(0, 10, 11)\n",
    "ts"
   ]
  },
  {
   "cell_type": "markdown",
   "metadata": {},
   "source": [
    "Ahora hacemos un objeto como Sistema."
   ]
  },
  {
   "cell_type": "code",
   "execution_count": 22,
   "metadata": {
    "collapsed": true
   },
   "outputs": [],
   "source": [
    "system = System(init=init, g=g, ts=ts)"
   ]
  },
  {
   "cell_type": "markdown",
   "metadata": {},
   "source": [
    "Y se define la función de pendiente."
   ]
  },
  {
   "cell_type": "code",
   "execution_count": 23,
   "metadata": {
    "collapsed": true
   },
   "outputs": [],
   "source": [
    "def slope_func(state, t, system):\n",
    "    \"\"\"Calcula derivados del estado.\n",
    "    \n",
    "     estado: posición, velocidad\n",
    "     t: tiempo\n",
    "     sistema: objeto del sistema que contiene `g`\n",
    "    \n",
    "     devoluciones: derivadas de y & v\n",
    "    \"\"\"\n",
    "    y, v = state\n",
    "    unpack(system)    \n",
    "\n",
    "    dydt = v\n",
    "    dvdt = -g\n",
    "    \n",
    "    return dydt, dvdt"
   ]
  },
  {
   "cell_type": "markdown",
   "metadata": {},
   "source": [
    "Siempre es una buena idea probar la función de pendiente con las condiciones iniciales."
   ]
  },
  {
   "cell_type": "code",
   "execution_count": 24,
   "metadata": {},
   "outputs": [
    {
     "name": "stdout",
     "output_type": "stream",
     "text": [
      "381 meter\n",
      "-9.8 meter / second ** 2\n"
     ]
    }
   ],
   "source": [
    "dydt, dvdt = slope_func(init, 0, system)\n",
    "print(dydt)\n",
    "print(dvdt)"
   ]
  },
  {
   "cell_type": "markdown",
   "metadata": {},
   "source": [
    "Ahora estamos listos para ejecutar odeint"
   ]
  },
  {
   "cell_type": "code",
   "execution_count": 25,
   "metadata": {
    "collapsed": true
   },
   "outputs": [],
   "source": [
    "run_odeint(system, slope_func)"
   ]
  },
  {
   "cell_type": "markdown",
   "metadata": {},
   "source": [
    "Así es como se ven los resultados."
   ]
  },
  {
   "cell_type": "code",
   "execution_count": 26,
   "metadata": {},
   "outputs": [
    {
     "data": {
      "text/html": [
       "<div>\n",
       "<table border=\"1\" class=\"dataframe\">\n",
       "  <thead>\n",
       "    <tr style=\"text-align: right;\">\n",
       "      <th></th>\n",
       "      <th>v</th>\n",
       "      <th>y</th>\n",
       "    </tr>\n",
       "  </thead>\n",
       "  <tbody>\n",
       "    <tr>\n",
       "      <th>0.0</th>\n",
       "      <td>0.0</td>\n",
       "      <td>381.0</td>\n",
       "    </tr>\n",
       "    <tr>\n",
       "      <th>1.0</th>\n",
       "      <td>376.1</td>\n",
       "      <td>371.2</td>\n",
       "    </tr>\n",
       "    <tr>\n",
       "      <th>2.0</th>\n",
       "      <td>742.4</td>\n",
       "      <td>361.4</td>\n",
       "    </tr>\n",
       "    <tr>\n",
       "      <th>3.0</th>\n",
       "      <td>1098.9</td>\n",
       "      <td>351.6</td>\n",
       "    </tr>\n",
       "    <tr>\n",
       "      <th>4.0</th>\n",
       "      <td>1445.6</td>\n",
       "      <td>341.8</td>\n",
       "    </tr>\n",
       "  </tbody>\n",
       "</table>\n",
       "</div>"
      ],
      "text/plain": [
       "          v      y\n",
       "0.0     0.0  381.0\n",
       "1.0   376.1  371.2\n",
       "2.0   742.4  361.4\n",
       "3.0  1098.9  351.6\n",
       "4.0  1445.6  341.8"
      ]
     },
     "execution_count": 26,
     "metadata": {},
     "output_type": "execute_result"
    }
   ],
   "source": [
    "system.results.head()"
   ]
  },
  {
   "cell_type": "code",
   "execution_count": 27,
   "metadata": {},
   "outputs": [
    {
     "data": {
      "text/html": [
       "<div>\n",
       "<table border=\"1\" class=\"dataframe\">\n",
       "  <thead>\n",
       "    <tr style=\"text-align: right;\">\n",
       "      <th></th>\n",
       "      <th>v</th>\n",
       "      <th>y</th>\n",
       "    </tr>\n",
       "  </thead>\n",
       "  <tbody>\n",
       "    <tr>\n",
       "      <th>6.0</th>\n",
       "      <td>2109.6</td>\n",
       "      <td>322.2</td>\n",
       "    </tr>\n",
       "    <tr>\n",
       "      <th>7.0</th>\n",
       "      <td>2426.9</td>\n",
       "      <td>312.4</td>\n",
       "    </tr>\n",
       "    <tr>\n",
       "      <th>8.0</th>\n",
       "      <td>2734.4</td>\n",
       "      <td>302.6</td>\n",
       "    </tr>\n",
       "    <tr>\n",
       "      <th>9.0</th>\n",
       "      <td>3032.1</td>\n",
       "      <td>292.8</td>\n",
       "    </tr>\n",
       "    <tr>\n",
       "      <th>10.0</th>\n",
       "      <td>3320.0</td>\n",
       "      <td>283.0</td>\n",
       "    </tr>\n",
       "  </tbody>\n",
       "</table>\n",
       "</div>"
      ],
      "text/plain": [
       "           v      y\n",
       "6.0   2109.6  322.2\n",
       "7.0   2426.9  312.4\n",
       "8.0   2734.4  302.6\n",
       "9.0   3032.1  292.8\n",
       "10.0  3320.0  283.0"
      ]
     },
     "execution_count": 27,
     "metadata": {},
     "output_type": "execute_result"
    }
   ],
   "source": [
    "system.results.tail()"
   ]
  },
  {
   "cell_type": "markdown",
   "metadata": {},
   "source": [
    "La siguiente función traza los resultados."
   ]
  },
  {
   "cell_type": "code",
   "execution_count": 28,
   "metadata": {
    "collapsed": true
   },
   "outputs": [],
   "source": [
    "\n",
    "\n",
    "def plot_position(results):\n",
    "    \"\"\"Traza los resultados.\n",
    "    \n",
    "     resultados: DataFrame con posición, `y`\n",
    "    \"\"\"\n",
    "    newfig()\n",
    "    plot(results.y, label='y')\n",
    "        \n",
    "    decorate(xlabel='Time (s)',\n",
    "             ylabel='Position (m)')"
   ]
  },
  {
   "cell_type": "markdown",
   "metadata": {},
   "source": [
    "Así se ve"
   ]
  },
  {
   "cell_type": "code",
   "execution_count": 29,
   "metadata": {},
   "outputs": [
    {
     "data": {
      "application/javascript": [
       "/* Put everything inside the global mpl namespace */\n",
       "window.mpl = {};\n",
       "\n",
       "mpl.get_websocket_type = function() {\n",
       "    if (typeof(WebSocket) !== 'undefined') {\n",
       "        return WebSocket;\n",
       "    } else if (typeof(MozWebSocket) !== 'undefined') {\n",
       "        return MozWebSocket;\n",
       "    } else {\n",
       "        alert('Your browser does not have WebSocket support.' +\n",
       "              'Please try Chrome, Safari or Firefox ≥ 6. ' +\n",
       "              'Firefox 4 and 5 are also supported but you ' +\n",
       "              'have to enable WebSockets in about:config.');\n",
       "    };\n",
       "}\n",
       "\n",
       "mpl.figure = function(figure_id, websocket, ondownload, parent_element) {\n",
       "    this.id = figure_id;\n",
       "\n",
       "    this.ws = websocket;\n",
       "\n",
       "    this.supports_binary = (this.ws.binaryType != undefined);\n",
       "\n",
       "    if (!this.supports_binary) {\n",
       "        var warnings = document.getElementById(\"mpl-warnings\");\n",
       "        if (warnings) {\n",
       "            warnings.style.display = 'block';\n",
       "            warnings.textContent = (\n",
       "                \"This browser does not support binary websocket messages. \" +\n",
       "                    \"Performance may be slow.\");\n",
       "        }\n",
       "    }\n",
       "\n",
       "    this.imageObj = new Image();\n",
       "\n",
       "    this.context = undefined;\n",
       "    this.message = undefined;\n",
       "    this.canvas = undefined;\n",
       "    this.rubberband_canvas = undefined;\n",
       "    this.rubberband_context = undefined;\n",
       "    this.format_dropdown = undefined;\n",
       "\n",
       "    this.image_mode = 'full';\n",
       "\n",
       "    this.root = $('<div/>');\n",
       "    this._root_extra_style(this.root)\n",
       "    this.root.attr('style', 'display: inline-block');\n",
       "\n",
       "    $(parent_element).append(this.root);\n",
       "\n",
       "    this._init_header(this);\n",
       "    this._init_canvas(this);\n",
       "    this._init_toolbar(this);\n",
       "\n",
       "    var fig = this;\n",
       "\n",
       "    this.waiting = false;\n",
       "\n",
       "    this.ws.onopen =  function () {\n",
       "            fig.send_message(\"supports_binary\", {value: fig.supports_binary});\n",
       "            fig.send_message(\"send_image_mode\", {});\n",
       "            fig.send_message(\"refresh\", {});\n",
       "        }\n",
       "\n",
       "    this.imageObj.onload = function() {\n",
       "            if (fig.image_mode == 'full') {\n",
       "                // Full images could contain transparency (where diff images\n",
       "                // almost always do), so we need to clear the canvas so that\n",
       "                // there is no ghosting.\n",
       "                fig.context.clearRect(0, 0, fig.canvas.width, fig.canvas.height);\n",
       "            }\n",
       "            fig.context.drawImage(fig.imageObj, 0, 0);\n",
       "        };\n",
       "\n",
       "    this.imageObj.onunload = function() {\n",
       "        this.ws.close();\n",
       "    }\n",
       "\n",
       "    this.ws.onmessage = this._make_on_message_function(this);\n",
       "\n",
       "    this.ondownload = ondownload;\n",
       "}\n",
       "\n",
       "mpl.figure.prototype._init_header = function() {\n",
       "    var titlebar = $(\n",
       "        '<div class=\"ui-dialog-titlebar ui-widget-header ui-corner-all ' +\n",
       "        'ui-helper-clearfix\"/>');\n",
       "    var titletext = $(\n",
       "        '<div class=\"ui-dialog-title\" style=\"width: 100%; ' +\n",
       "        'text-align: center; padding: 3px;\"/>');\n",
       "    titlebar.append(titletext)\n",
       "    this.root.append(titlebar);\n",
       "    this.header = titletext[0];\n",
       "}\n",
       "\n",
       "\n",
       "\n",
       "mpl.figure.prototype._canvas_extra_style = function(canvas_div) {\n",
       "\n",
       "}\n",
       "\n",
       "\n",
       "mpl.figure.prototype._root_extra_style = function(canvas_div) {\n",
       "\n",
       "}\n",
       "\n",
       "mpl.figure.prototype._init_canvas = function() {\n",
       "    var fig = this;\n",
       "\n",
       "    var canvas_div = $('<div/>');\n",
       "\n",
       "    canvas_div.attr('style', 'position: relative; clear: both; outline: 0');\n",
       "\n",
       "    function canvas_keyboard_event(event) {\n",
       "        return fig.key_event(event, event['data']);\n",
       "    }\n",
       "\n",
       "    canvas_div.keydown('key_press', canvas_keyboard_event);\n",
       "    canvas_div.keyup('key_release', canvas_keyboard_event);\n",
       "    this.canvas_div = canvas_div\n",
       "    this._canvas_extra_style(canvas_div)\n",
       "    this.root.append(canvas_div);\n",
       "\n",
       "    var canvas = $('<canvas/>');\n",
       "    canvas.addClass('mpl-canvas');\n",
       "    canvas.attr('style', \"left: 0; top: 0; z-index: 0; outline: 0\")\n",
       "\n",
       "    this.canvas = canvas[0];\n",
       "    this.context = canvas[0].getContext(\"2d\");\n",
       "\n",
       "    var rubberband = $('<canvas/>');\n",
       "    rubberband.attr('style', \"position: absolute; left: 0; top: 0; z-index: 1;\")\n",
       "\n",
       "    var pass_mouse_events = true;\n",
       "\n",
       "    canvas_div.resizable({\n",
       "        start: function(event, ui) {\n",
       "            pass_mouse_events = false;\n",
       "        },\n",
       "        resize: function(event, ui) {\n",
       "            fig.request_resize(ui.size.width, ui.size.height);\n",
       "        },\n",
       "        stop: function(event, ui) {\n",
       "            pass_mouse_events = true;\n",
       "            fig.request_resize(ui.size.width, ui.size.height);\n",
       "        },\n",
       "    });\n",
       "\n",
       "    function mouse_event_fn(event) {\n",
       "        if (pass_mouse_events)\n",
       "            return fig.mouse_event(event, event['data']);\n",
       "    }\n",
       "\n",
       "    rubberband.mousedown('button_press', mouse_event_fn);\n",
       "    rubberband.mouseup('button_release', mouse_event_fn);\n",
       "    // Throttle sequential mouse events to 1 every 20ms.\n",
       "    rubberband.mousemove('motion_notify', mouse_event_fn);\n",
       "\n",
       "    rubberband.mouseenter('figure_enter', mouse_event_fn);\n",
       "    rubberband.mouseleave('figure_leave', mouse_event_fn);\n",
       "\n",
       "    canvas_div.on(\"wheel\", function (event) {\n",
       "        event = event.originalEvent;\n",
       "        event['data'] = 'scroll'\n",
       "        if (event.deltaY < 0) {\n",
       "            event.step = 1;\n",
       "        } else {\n",
       "            event.step = -1;\n",
       "        }\n",
       "        mouse_event_fn(event);\n",
       "    });\n",
       "\n",
       "    canvas_div.append(canvas);\n",
       "    canvas_div.append(rubberband);\n",
       "\n",
       "    this.rubberband = rubberband;\n",
       "    this.rubberband_canvas = rubberband[0];\n",
       "    this.rubberband_context = rubberband[0].getContext(\"2d\");\n",
       "    this.rubberband_context.strokeStyle = \"#000000\";\n",
       "\n",
       "    this._resize_canvas = function(width, height) {\n",
       "        // Keep the size of the canvas, canvas container, and rubber band\n",
       "        // canvas in synch.\n",
       "        canvas_div.css('width', width)\n",
       "        canvas_div.css('height', height)\n",
       "\n",
       "        canvas.attr('width', width);\n",
       "        canvas.attr('height', height);\n",
       "\n",
       "        rubberband.attr('width', width);\n",
       "        rubberband.attr('height', height);\n",
       "    }\n",
       "\n",
       "    // Set the figure to an initial 600x600px, this will subsequently be updated\n",
       "    // upon first draw.\n",
       "    this._resize_canvas(600, 600);\n",
       "\n",
       "    // Disable right mouse context menu.\n",
       "    $(this.rubberband_canvas).bind(\"contextmenu\",function(e){\n",
       "        return false;\n",
       "    });\n",
       "\n",
       "    function set_focus () {\n",
       "        canvas.focus();\n",
       "        canvas_div.focus();\n",
       "    }\n",
       "\n",
       "    window.setTimeout(set_focus, 100);\n",
       "}\n",
       "\n",
       "mpl.figure.prototype._init_toolbar = function() {\n",
       "    var fig = this;\n",
       "\n",
       "    var nav_element = $('<div/>')\n",
       "    nav_element.attr('style', 'width: 100%');\n",
       "    this.root.append(nav_element);\n",
       "\n",
       "    // Define a callback function for later on.\n",
       "    function toolbar_event(event) {\n",
       "        return fig.toolbar_button_onclick(event['data']);\n",
       "    }\n",
       "    function toolbar_mouse_event(event) {\n",
       "        return fig.toolbar_button_onmouseover(event['data']);\n",
       "    }\n",
       "\n",
       "    for(var toolbar_ind in mpl.toolbar_items) {\n",
       "        var name = mpl.toolbar_items[toolbar_ind][0];\n",
       "        var tooltip = mpl.toolbar_items[toolbar_ind][1];\n",
       "        var image = mpl.toolbar_items[toolbar_ind][2];\n",
       "        var method_name = mpl.toolbar_items[toolbar_ind][3];\n",
       "\n",
       "        if (!name) {\n",
       "            // put a spacer in here.\n",
       "            continue;\n",
       "        }\n",
       "        var button = $('<button/>');\n",
       "        button.addClass('ui-button ui-widget ui-state-default ui-corner-all ' +\n",
       "                        'ui-button-icon-only');\n",
       "        button.attr('role', 'button');\n",
       "        button.attr('aria-disabled', 'false');\n",
       "        button.click(method_name, toolbar_event);\n",
       "        button.mouseover(tooltip, toolbar_mouse_event);\n",
       "\n",
       "        var icon_img = $('<span/>');\n",
       "        icon_img.addClass('ui-button-icon-primary ui-icon');\n",
       "        icon_img.addClass(image);\n",
       "        icon_img.addClass('ui-corner-all');\n",
       "\n",
       "        var tooltip_span = $('<span/>');\n",
       "        tooltip_span.addClass('ui-button-text');\n",
       "        tooltip_span.html(tooltip);\n",
       "\n",
       "        button.append(icon_img);\n",
       "        button.append(tooltip_span);\n",
       "\n",
       "        nav_element.append(button);\n",
       "    }\n",
       "\n",
       "    var fmt_picker_span = $('<span/>');\n",
       "\n",
       "    var fmt_picker = $('<select/>');\n",
       "    fmt_picker.addClass('mpl-toolbar-option ui-widget ui-widget-content');\n",
       "    fmt_picker_span.append(fmt_picker);\n",
       "    nav_element.append(fmt_picker_span);\n",
       "    this.format_dropdown = fmt_picker[0];\n",
       "\n",
       "    for (var ind in mpl.extensions) {\n",
       "        var fmt = mpl.extensions[ind];\n",
       "        var option = $(\n",
       "            '<option/>', {selected: fmt === mpl.default_extension}).html(fmt);\n",
       "        fmt_picker.append(option)\n",
       "    }\n",
       "\n",
       "    // Add hover states to the ui-buttons\n",
       "    $( \".ui-button\" ).hover(\n",
       "        function() { $(this).addClass(\"ui-state-hover\");},\n",
       "        function() { $(this).removeClass(\"ui-state-hover\");}\n",
       "    );\n",
       "\n",
       "    var status_bar = $('<span class=\"mpl-message\"/>');\n",
       "    nav_element.append(status_bar);\n",
       "    this.message = status_bar[0];\n",
       "}\n",
       "\n",
       "mpl.figure.prototype.request_resize = function(x_pixels, y_pixels) {\n",
       "    // Request matplotlib to resize the figure. Matplotlib will then trigger a resize in the client,\n",
       "    // which will in turn request a refresh of the image.\n",
       "    this.send_message('resize', {'width': x_pixels, 'height': y_pixels});\n",
       "}\n",
       "\n",
       "mpl.figure.prototype.send_message = function(type, properties) {\n",
       "    properties['type'] = type;\n",
       "    properties['figure_id'] = this.id;\n",
       "    this.ws.send(JSON.stringify(properties));\n",
       "}\n",
       "\n",
       "mpl.figure.prototype.send_draw_message = function() {\n",
       "    if (!this.waiting) {\n",
       "        this.waiting = true;\n",
       "        this.ws.send(JSON.stringify({type: \"draw\", figure_id: this.id}));\n",
       "    }\n",
       "}\n",
       "\n",
       "\n",
       "mpl.figure.prototype.handle_save = function(fig, msg) {\n",
       "    var format_dropdown = fig.format_dropdown;\n",
       "    var format = format_dropdown.options[format_dropdown.selectedIndex].value;\n",
       "    fig.ondownload(fig, format);\n",
       "}\n",
       "\n",
       "\n",
       "mpl.figure.prototype.handle_resize = function(fig, msg) {\n",
       "    var size = msg['size'];\n",
       "    if (size[0] != fig.canvas.width || size[1] != fig.canvas.height) {\n",
       "        fig._resize_canvas(size[0], size[1]);\n",
       "        fig.send_message(\"refresh\", {});\n",
       "    };\n",
       "}\n",
       "\n",
       "mpl.figure.prototype.handle_rubberband = function(fig, msg) {\n",
       "    var x0 = msg['x0'];\n",
       "    var y0 = fig.canvas.height - msg['y0'];\n",
       "    var x1 = msg['x1'];\n",
       "    var y1 = fig.canvas.height - msg['y1'];\n",
       "    x0 = Math.floor(x0) + 0.5;\n",
       "    y0 = Math.floor(y0) + 0.5;\n",
       "    x1 = Math.floor(x1) + 0.5;\n",
       "    y1 = Math.floor(y1) + 0.5;\n",
       "    var min_x = Math.min(x0, x1);\n",
       "    var min_y = Math.min(y0, y1);\n",
       "    var width = Math.abs(x1 - x0);\n",
       "    var height = Math.abs(y1 - y0);\n",
       "\n",
       "    fig.rubberband_context.clearRect(\n",
       "        0, 0, fig.canvas.width, fig.canvas.height);\n",
       "\n",
       "    fig.rubberband_context.strokeRect(min_x, min_y, width, height);\n",
       "}\n",
       "\n",
       "mpl.figure.prototype.handle_figure_label = function(fig, msg) {\n",
       "    // Updates the figure title.\n",
       "    fig.header.textContent = msg['label'];\n",
       "}\n",
       "\n",
       "mpl.figure.prototype.handle_cursor = function(fig, msg) {\n",
       "    var cursor = msg['cursor'];\n",
       "    switch(cursor)\n",
       "    {\n",
       "    case 0:\n",
       "        cursor = 'pointer';\n",
       "        break;\n",
       "    case 1:\n",
       "        cursor = 'default';\n",
       "        break;\n",
       "    case 2:\n",
       "        cursor = 'crosshair';\n",
       "        break;\n",
       "    case 3:\n",
       "        cursor = 'move';\n",
       "        break;\n",
       "    }\n",
       "    fig.rubberband_canvas.style.cursor = cursor;\n",
       "}\n",
       "\n",
       "mpl.figure.prototype.handle_message = function(fig, msg) {\n",
       "    fig.message.textContent = msg['message'];\n",
       "}\n",
       "\n",
       "mpl.figure.prototype.handle_draw = function(fig, msg) {\n",
       "    // Request the server to send over a new figure.\n",
       "    fig.send_draw_message();\n",
       "}\n",
       "\n",
       "mpl.figure.prototype.handle_image_mode = function(fig, msg) {\n",
       "    fig.image_mode = msg['mode'];\n",
       "}\n",
       "\n",
       "mpl.figure.prototype.updated_canvas_event = function() {\n",
       "    // Called whenever the canvas gets updated.\n",
       "    this.send_message(\"ack\", {});\n",
       "}\n",
       "\n",
       "// A function to construct a web socket function for onmessage handling.\n",
       "// Called in the figure constructor.\n",
       "mpl.figure.prototype._make_on_message_function = function(fig) {\n",
       "    return function socket_on_message(evt) {\n",
       "        if (evt.data instanceof Blob) {\n",
       "            /* FIXME: We get \"Resource interpreted as Image but\n",
       "             * transferred with MIME type text/plain:\" errors on\n",
       "             * Chrome.  But how to set the MIME type?  It doesn't seem\n",
       "             * to be part of the websocket stream */\n",
       "            evt.data.type = \"image/png\";\n",
       "\n",
       "            /* Free the memory for the previous frames */\n",
       "            if (fig.imageObj.src) {\n",
       "                (window.URL || window.webkitURL).revokeObjectURL(\n",
       "                    fig.imageObj.src);\n",
       "            }\n",
       "\n",
       "            fig.imageObj.src = (window.URL || window.webkitURL).createObjectURL(\n",
       "                evt.data);\n",
       "            fig.updated_canvas_event();\n",
       "            fig.waiting = false;\n",
       "            return;\n",
       "        }\n",
       "        else if (typeof evt.data === 'string' && evt.data.slice(0, 21) == \"data:image/png;base64\") {\n",
       "            fig.imageObj.src = evt.data;\n",
       "            fig.updated_canvas_event();\n",
       "            fig.waiting = false;\n",
       "            return;\n",
       "        }\n",
       "\n",
       "        var msg = JSON.parse(evt.data);\n",
       "        var msg_type = msg['type'];\n",
       "\n",
       "        // Call the  \"handle_{type}\" callback, which takes\n",
       "        // the figure and JSON message as its only arguments.\n",
       "        try {\n",
       "            var callback = fig[\"handle_\" + msg_type];\n",
       "        } catch (e) {\n",
       "            console.log(\"No handler for the '\" + msg_type + \"' message type: \", msg);\n",
       "            return;\n",
       "        }\n",
       "\n",
       "        if (callback) {\n",
       "            try {\n",
       "                // console.log(\"Handling '\" + msg_type + \"' message: \", msg);\n",
       "                callback(fig, msg);\n",
       "            } catch (e) {\n",
       "                console.log(\"Exception inside the 'handler_\" + msg_type + \"' callback:\", e, e.stack, msg);\n",
       "            }\n",
       "        }\n",
       "    };\n",
       "}\n",
       "\n",
       "// from http://stackoverflow.com/questions/1114465/getting-mouse-location-in-canvas\n",
       "mpl.findpos = function(e) {\n",
       "    //this section is from http://www.quirksmode.org/js/events_properties.html\n",
       "    var targ;\n",
       "    if (!e)\n",
       "        e = window.event;\n",
       "    if (e.target)\n",
       "        targ = e.target;\n",
       "    else if (e.srcElement)\n",
       "        targ = e.srcElement;\n",
       "    if (targ.nodeType == 3) // defeat Safari bug\n",
       "        targ = targ.parentNode;\n",
       "\n",
       "    // jQuery normalizes the pageX and pageY\n",
       "    // pageX,Y are the mouse positions relative to the document\n",
       "    // offset() returns the position of the element relative to the document\n",
       "    var x = e.pageX - $(targ).offset().left;\n",
       "    var y = e.pageY - $(targ).offset().top;\n",
       "\n",
       "    return {\"x\": x, \"y\": y};\n",
       "};\n",
       "\n",
       "/*\n",
       " * return a copy of an object with only non-object keys\n",
       " * we need this to avoid circular references\n",
       " * http://stackoverflow.com/a/24161582/3208463\n",
       " */\n",
       "function simpleKeys (original) {\n",
       "  return Object.keys(original).reduce(function (obj, key) {\n",
       "    if (typeof original[key] !== 'object')\n",
       "        obj[key] = original[key]\n",
       "    return obj;\n",
       "  }, {});\n",
       "}\n",
       "\n",
       "mpl.figure.prototype.mouse_event = function(event, name) {\n",
       "    var canvas_pos = mpl.findpos(event)\n",
       "\n",
       "    if (name === 'button_press')\n",
       "    {\n",
       "        this.canvas.focus();\n",
       "        this.canvas_div.focus();\n",
       "    }\n",
       "\n",
       "    var x = canvas_pos.x;\n",
       "    var y = canvas_pos.y;\n",
       "\n",
       "    this.send_message(name, {x: x, y: y, button: event.button,\n",
       "                             step: event.step,\n",
       "                             guiEvent: simpleKeys(event)});\n",
       "\n",
       "    /* This prevents the web browser from automatically changing to\n",
       "     * the text insertion cursor when the button is pressed.  We want\n",
       "     * to control all of the cursor setting manually through the\n",
       "     * 'cursor' event from matplotlib */\n",
       "    event.preventDefault();\n",
       "    return false;\n",
       "}\n",
       "\n",
       "mpl.figure.prototype._key_event_extra = function(event, name) {\n",
       "    // Handle any extra behaviour associated with a key event\n",
       "}\n",
       "\n",
       "mpl.figure.prototype.key_event = function(event, name) {\n",
       "\n",
       "    // Prevent repeat events\n",
       "    if (name == 'key_press')\n",
       "    {\n",
       "        if (event.which === this._key)\n",
       "            return;\n",
       "        else\n",
       "            this._key = event.which;\n",
       "    }\n",
       "    if (name == 'key_release')\n",
       "        this._key = null;\n",
       "\n",
       "    var value = '';\n",
       "    if (event.ctrlKey && event.which != 17)\n",
       "        value += \"ctrl+\";\n",
       "    if (event.altKey && event.which != 18)\n",
       "        value += \"alt+\";\n",
       "    if (event.shiftKey && event.which != 16)\n",
       "        value += \"shift+\";\n",
       "\n",
       "    value += 'k';\n",
       "    value += event.which.toString();\n",
       "\n",
       "    this._key_event_extra(event, name);\n",
       "\n",
       "    this.send_message(name, {key: value,\n",
       "                             guiEvent: simpleKeys(event)});\n",
       "    return false;\n",
       "}\n",
       "\n",
       "mpl.figure.prototype.toolbar_button_onclick = function(name) {\n",
       "    if (name == 'download') {\n",
       "        this.handle_save(this, null);\n",
       "    } else {\n",
       "        this.send_message(\"toolbar_button\", {name: name});\n",
       "    }\n",
       "};\n",
       "\n",
       "mpl.figure.prototype.toolbar_button_onmouseover = function(tooltip) {\n",
       "    this.message.textContent = tooltip;\n",
       "};\n",
       "mpl.toolbar_items = [[\"Home\", \"Reset original view\", \"fa fa-home icon-home\", \"home\"], [\"Back\", \"Back to  previous view\", \"fa fa-arrow-left icon-arrow-left\", \"back\"], [\"Forward\", \"Forward to next view\", \"fa fa-arrow-right icon-arrow-right\", \"forward\"], [\"\", \"\", \"\", \"\"], [\"Pan\", \"Pan axes with left mouse, zoom with right\", \"fa fa-arrows icon-move\", \"pan\"], [\"Zoom\", \"Zoom to rectangle\", \"fa fa-square-o icon-check-empty\", \"zoom\"], [\"\", \"\", \"\", \"\"], [\"Download\", \"Download plot\", \"fa fa-floppy-o icon-save\", \"download\"]];\n",
       "\n",
       "mpl.extensions = [\"eps\", \"jpeg\", \"pdf\", \"png\", \"ps\", \"raw\", \"svg\", \"tif\"];\n",
       "\n",
       "mpl.default_extension = \"png\";var comm_websocket_adapter = function(comm) {\n",
       "    // Create a \"websocket\"-like object which calls the given IPython comm\n",
       "    // object with the appropriate methods. Currently this is a non binary\n",
       "    // socket, so there is still some room for performance tuning.\n",
       "    var ws = {};\n",
       "\n",
       "    ws.close = function() {\n",
       "        comm.close()\n",
       "    };\n",
       "    ws.send = function(m) {\n",
       "        //console.log('sending', m);\n",
       "        comm.send(m);\n",
       "    };\n",
       "    // Register the callback with on_msg.\n",
       "    comm.on_msg(function(msg) {\n",
       "        //console.log('receiving', msg['content']['data'], msg);\n",
       "        // Pass the mpl event to the overriden (by mpl) onmessage function.\n",
       "        ws.onmessage(msg['content']['data'])\n",
       "    });\n",
       "    return ws;\n",
       "}\n",
       "\n",
       "mpl.mpl_figure_comm = function(comm, msg) {\n",
       "    // This is the function which gets called when the mpl process\n",
       "    // starts-up an IPython Comm through the \"matplotlib\" channel.\n",
       "\n",
       "    var id = msg.content.data.id;\n",
       "    // Get hold of the div created by the display call when the Comm\n",
       "    // socket was opened in Python.\n",
       "    var element = $(\"#\" + id);\n",
       "    var ws_proxy = comm_websocket_adapter(comm)\n",
       "\n",
       "    function ondownload(figure, format) {\n",
       "        window.open(figure.imageObj.src);\n",
       "    }\n",
       "\n",
       "    var fig = new mpl.figure(id, ws_proxy,\n",
       "                           ondownload,\n",
       "                           element.get(0));\n",
       "\n",
       "    // Call onopen now - mpl needs it, as it is assuming we've passed it a real\n",
       "    // web socket which is closed, not our websocket->open comm proxy.\n",
       "    ws_proxy.onopen();\n",
       "\n",
       "    fig.parent_element = element.get(0);\n",
       "    fig.cell_info = mpl.find_output_cell(\"<div id='\" + id + \"'></div>\");\n",
       "    if (!fig.cell_info) {\n",
       "        console.error(\"Failed to find cell for figure\", id, fig);\n",
       "        return;\n",
       "    }\n",
       "\n",
       "    var output_index = fig.cell_info[2]\n",
       "    var cell = fig.cell_info[0];\n",
       "\n",
       "};\n",
       "\n",
       "mpl.figure.prototype.handle_close = function(fig, msg) {\n",
       "    fig.root.unbind('remove')\n",
       "\n",
       "    // Update the output cell to use the data from the current canvas.\n",
       "    fig.push_to_output();\n",
       "    var dataURL = fig.canvas.toDataURL();\n",
       "    // Re-enable the keyboard manager in IPython - without this line, in FF,\n",
       "    // the notebook keyboard shortcuts fail.\n",
       "    IPython.keyboard_manager.enable()\n",
       "    $(fig.parent_element).html('<img src=\"' + dataURL + '\">');\n",
       "    fig.close_ws(fig, msg);\n",
       "}\n",
       "\n",
       "mpl.figure.prototype.close_ws = function(fig, msg){\n",
       "    fig.send_message('closing', msg);\n",
       "    // fig.ws.close()\n",
       "}\n",
       "\n",
       "mpl.figure.prototype.push_to_output = function(remove_interactive) {\n",
       "    // Turn the data on the canvas into data in the output cell.\n",
       "    var dataURL = this.canvas.toDataURL();\n",
       "    this.cell_info[1]['text/html'] = '<img src=\"' + dataURL + '\">';\n",
       "}\n",
       "\n",
       "mpl.figure.prototype.updated_canvas_event = function() {\n",
       "    // Tell IPython that the notebook contents must change.\n",
       "    IPython.notebook.set_dirty(true);\n",
       "    this.send_message(\"ack\", {});\n",
       "    var fig = this;\n",
       "    // Wait a second, then push the new image to the DOM so\n",
       "    // that it is saved nicely (might be nice to debounce this).\n",
       "    setTimeout(function () { fig.push_to_output() }, 1000);\n",
       "}\n",
       "\n",
       "mpl.figure.prototype._init_toolbar = function() {\n",
       "    var fig = this;\n",
       "\n",
       "    var nav_element = $('<div/>')\n",
       "    nav_element.attr('style', 'width: 100%');\n",
       "    this.root.append(nav_element);\n",
       "\n",
       "    // Define a callback function for later on.\n",
       "    function toolbar_event(event) {\n",
       "        return fig.toolbar_button_onclick(event['data']);\n",
       "    }\n",
       "    function toolbar_mouse_event(event) {\n",
       "        return fig.toolbar_button_onmouseover(event['data']);\n",
       "    }\n",
       "\n",
       "    for(var toolbar_ind in mpl.toolbar_items){\n",
       "        var name = mpl.toolbar_items[toolbar_ind][0];\n",
       "        var tooltip = mpl.toolbar_items[toolbar_ind][1];\n",
       "        var image = mpl.toolbar_items[toolbar_ind][2];\n",
       "        var method_name = mpl.toolbar_items[toolbar_ind][3];\n",
       "\n",
       "        if (!name) { continue; };\n",
       "\n",
       "        var button = $('<button class=\"btn btn-default\" href=\"#\" title=\"' + name + '\"><i class=\"fa ' + image + ' fa-lg\"></i></button>');\n",
       "        button.click(method_name, toolbar_event);\n",
       "        button.mouseover(tooltip, toolbar_mouse_event);\n",
       "        nav_element.append(button);\n",
       "    }\n",
       "\n",
       "    // Add the status bar.\n",
       "    var status_bar = $('<span class=\"mpl-message\" style=\"text-align:right; float: right;\"/>');\n",
       "    nav_element.append(status_bar);\n",
       "    this.message = status_bar[0];\n",
       "\n",
       "    // Add the close button to the window.\n",
       "    var buttongrp = $('<div class=\"btn-group inline pull-right\"></div>');\n",
       "    var button = $('<button class=\"btn btn-mini btn-primary\" href=\"#\" title=\"Stop Interaction\"><i class=\"fa fa-power-off icon-remove icon-large\"></i></button>');\n",
       "    button.click(function (evt) { fig.handle_close(fig, {}); } );\n",
       "    button.mouseover('Stop Interaction', toolbar_mouse_event);\n",
       "    buttongrp.append(button);\n",
       "    var titlebar = this.root.find($('.ui-dialog-titlebar'));\n",
       "    titlebar.prepend(buttongrp);\n",
       "}\n",
       "\n",
       "mpl.figure.prototype._root_extra_style = function(el){\n",
       "    var fig = this\n",
       "    el.on(\"remove\", function(){\n",
       "\tfig.close_ws(fig, {});\n",
       "    });\n",
       "}\n",
       "\n",
       "mpl.figure.prototype._canvas_extra_style = function(el){\n",
       "    // this is important to make the div 'focusable\n",
       "    el.attr('tabindex', 0)\n",
       "    // reach out to IPython and tell the keyboard manager to turn it's self\n",
       "    // off when our div gets focus\n",
       "\n",
       "    // location in version 3\n",
       "    if (IPython.notebook.keyboard_manager) {\n",
       "        IPython.notebook.keyboard_manager.register_events(el);\n",
       "    }\n",
       "    else {\n",
       "        // location in version 2\n",
       "        IPython.keyboard_manager.register_events(el);\n",
       "    }\n",
       "\n",
       "}\n",
       "\n",
       "mpl.figure.prototype._key_event_extra = function(event, name) {\n",
       "    var manager = IPython.notebook.keyboard_manager;\n",
       "    if (!manager)\n",
       "        manager = IPython.keyboard_manager;\n",
       "\n",
       "    // Check for shift+enter\n",
       "    if (event.shiftKey && event.which == 13) {\n",
       "        this.canvas_div.blur();\n",
       "        event.shiftKey = false;\n",
       "        // Send a \"J\" for go to next cell\n",
       "        event.which = 74;\n",
       "        event.keyCode = 74;\n",
       "        manager.command_mode();\n",
       "        manager.handle_keydown(event);\n",
       "    }\n",
       "}\n",
       "\n",
       "mpl.figure.prototype.handle_save = function(fig, msg) {\n",
       "    fig.ondownload(fig, null);\n",
       "}\n",
       "\n",
       "\n",
       "mpl.find_output_cell = function(html_output) {\n",
       "    // Return the cell and output element which can be found *uniquely* in the notebook.\n",
       "    // Note - this is a bit hacky, but it is done because the \"notebook_saving.Notebook\"\n",
       "    // IPython event is triggered only after the cells have been serialised, which for\n",
       "    // our purposes (turning an active figure into a static one), is too late.\n",
       "    var cells = IPython.notebook.get_cells();\n",
       "    var ncells = cells.length;\n",
       "    for (var i=0; i<ncells; i++) {\n",
       "        var cell = cells[i];\n",
       "        if (cell.cell_type === 'code'){\n",
       "            for (var j=0; j<cell.output_area.outputs.length; j++) {\n",
       "                var data = cell.output_area.outputs[j];\n",
       "                if (data.data) {\n",
       "                    // IPython >= 3 moved mimebundle to data attribute of output\n",
       "                    data = data.data;\n",
       "                }\n",
       "                if (data['text/html'] == html_output) {\n",
       "                    return [cell, data, j];\n",
       "                }\n",
       "            }\n",
       "        }\n",
       "    }\n",
       "}\n",
       "\n",
       "// Register the function which deals with the matplotlib target/channel.\n",
       "// The kernel may be null if the page has been refreshed.\n",
       "if (IPython.notebook.kernel != null) {\n",
       "    IPython.notebook.kernel.comm_manager.register_target('matplotlib', mpl.mpl_figure_comm);\n",
       "}\n"
      ],
      "text/plain": [
       "<IPython.core.display.Javascript object>"
      ]
     },
     "metadata": {},
     "output_type": "display_data"
    },
    {
     "data": {
      "text/html": [
       "<img src=\"data:image/png;base64,iVBORw0KGgoAAAANSUhEUgAAAoAAAAHgCAYAAAA10dzkAAAgAElEQVR4Xuy9CZhVxZ3//a1z2UEBQZRFBPreOt12RJDEXQTjBu4bsug4fyevvkwmZtxCjEuSEc2ISf6amcRxnNdkoiii4hJwXxD3qCgY0n3rdjco2CoioAhCL7fe58fpK/c2Sy/Vfe89937reXwC9Klzqj71Oz2fqVNVPwUWEiABEiABEiABEiCBoiKgiqq37CwJkAAJkAAJkAAJkAAogAwCEiABEiABEiABEigyAhTAIhtwdpcESIAESIAESIAEKICMARIgARIgARIgARIoMgIUwCIbcHaXBEiABEiABEiABCiAjAESIAESIAESIAESKDICFMAiG3B2lwRIgARIgARIgAQogIwBEiABEiABEiABEigyAhTAIhtwdpcESIAESIAESIAEKICMARIgARIgARIgARIoMgIUwCIbcHaXBEiABEiABEiABCiAjAESIAESIAESIAESKDICFMAiG3B2lwRIgARIgARIgAQogIwBEiABEiABEiABEigyAhTAIhtwdpcESIAESIAESIAEKICMARIgARIgARIgARIoMgIUwCIbcHaXBEiABEiABEiABCiAjAESIAESIAESIAESKDICFMAiG3B2lwRIgARIgARIgAQogIwBEiABEiABEiABEigyAhTAIhtwdpcESIAESIAESIAEKICMARIgARIgARIgARIoMgIUwCIbcHaXBEiABEiABEiABCiAjAESIAESIAESIAESKDICFMAiG3B2lwRIgARIgARIgAQogIwBEiABEiABEiABEigyAhTAIhtwdpcESIAESIAESIAEKICMARIgARIgARIgARIoMgIUwCIbcHaXBEiABEiABEiABCiAjAESIAESIAESIAESKDICFMAiG3B2lwRIgARIgARIgAQogIwBEiABEiABEiABEigyAhTAIhtwdpcESIAESIAESIAEKICMARIgARIgARIgARIoMgIUwCIbcHaXBEiABEiABEiABCiAjAESIAESIAESIAESKDICFMAiG3B2lwRIgARIgARIgAQogIwBEiABEiABEiABEigyAhTAIhtwdpcESIAESIAESIAECkYAtdYLAIw1xoxMDWs0Gi3xPO92AMcAaLDWPuR53qx4PL4pdc3o0aN7b926dQ6AcwD0AbDE87wrKisrDcODBEiABEiABEiABAqRQEEIoO/7F1pr/wxglTFmlAzUqFGj+nbp0uUDALXW2tme5+1nrb0NwJvGmMmpwfR9/wlr7WEArgEgYvgLAAMbGhrKa2pqvizEQWefSIAESIAESIAEiptA6AWwrKxscGNj49+UUl9baxtTAqi1vhbAz7p37z78gw8+2CDD7Pv+KdbaJ5PJ5NFVVVVvRKPRIz3Pey2ZTJ5SVVX1rFyjtR4IYCWAW4wxvyru8GDvSYAESIAESIAECpFA6AVQa70IgMzUbQNwXEoAY7HYS0qpb9Jn+wB4WusNSqnfxePxG7TWMtt3pTGmLwCbGmCt9UIAfY0xxxbioLNPJEACJEACJEACxU0g1AKotf4BgJu6du1aXl9f/5t0AdRaf2qtnZdIJP41fYi11u8DMMaYKVrreQBKjTFj0q+JxWK3K6WmG2MGFXd4sPckQAIkQAIkQAKFSCC0AlhWVnZgY2PjcgAXG2Me01r/sZkAfiNr/hKJxI3NBPAVa+3mRCJxitb6KQC9jTHj06/xff8ma+01xpgehTjo7BMJkAAJkAAJkEBxEwitAGqtn1dKfRaPx2fIEO5CALdZa2/dlQDKZg/5NOz7/jPW2p67EcCrjDG9ijs82HsSIAESIAESIIFCJBBKAdRa/wuAGxobGw+urq7+YsKECaq2tvZ/AIw3xsRkPV/TJ+C5iUTiimYzgMsA/N0YM01rPR9AzBgzttkM4B3W2inGmMF7GvTS0tIBjY2NJ0cikVUNDQ1bCzFA2CcSIAESIAESKDQCXbp06dHY2DgiEok8U1lZ+UWh9a81/QmlADZt8JDPtrtqv2zm+CWAEwFsNMacngZCNoFsVErdFo/Hb2r61PsjY0y/ZpIoG0tkZvD4PUGMxWLTlVJzWwOa15AACZAACZAACeQXAWvtjEQicX9+tSo7rQmlAJaVlcXq6+v3SkcUiUR+Ya09NJlMnt69e/dPGhoa/h9Zx+d53siU3WutJwFYaK09KpFIvKW1ll2+iz3Pm1xZWfmM3C8aje7reV6NUmp2PB6/tYUZwKOSyeRrt912G0pKSrIzYnwKCZAACZAACZCAE4Hq6mpcc8018Dzv6MrKytedbhbSyqEUwF2x3sUaQDnP7+8APm6aEZS/i9C9nj4rqLV+EcBopdQsa+16AD9XSvWvr68f3dJB0NFo9FDP895dsGABysvLQxoCbDYJkAAJkAAJFBeBFStW4JxzzkEymRxXVVW1tLh6H/S20ARQ1gB+OxUXjUYPakoFd5Rs/LDWPtqzZ89rli9fvjk12JIxJBKJ/FYpdZacEwjg1UgkcmVFRUWipYCgALZEiD8nARIgARIggfwjQAEsIAHMRXhRAHNBnc8kARIgARIgATcCFEAKoFMEUQCd8LEyCZAACZAACeSEAAWQAugUeBRAJ3ysTAIkQAIkQAI5IUABpAA6BR4F0AkfK5MACZAACZBATghQACmAToFHAXTCx8okQAIkQAIkkBMCFEAKoFPgUQCd8LEyCZAACZAACeSEAAWQAugUeBRAJ3ysTAIkQAIkQAI5IUABpAA6BR4F0AkfK5MACZAACZBATghQACmAToFHAXTCx8okQAIkQAIkkBMCFEAKoFPgUQCd8LEyCZAACZAACeSEAAWQAugUeBRAJ3ysTAIkQAIkQAI5IUABpAA6BR4F0AkfK5MACZAACZBATghQACmAToFHAXTCx8okQAIkQAIkkBMCFEAKoFPgUQCd8LEyCZAACZBACAhUVwNr1wKDBgElJSFocCuaSAGkALYiTHZ/CQXQCR8rkwAJkAAJ5DGB9euBO+8EPvpoRyOHDwdmzgT22Sc7DZ8zZw7mzp2L1157DX369Pn2oX/4wx9wzz33bP/37t27t7kxFEAKYJuDJr0CBdAJHyuTAAmQAAl0MgFrgS++AOrq2v6gO+4APv5453pDhwI//nHb7tetGzBgAKBU2+rV1NTg1FNPxezZs3Huued+W/nkk0/GEUccgV/+8pdtu2HT1RRACmC7AidViQLohI+VSYAESIAEOpGAyN/vfw988EHbH/LVV8D77+++3pgxwN57t+2+Bx8M/PCHbZfAqVOnomvXrrj33nu3P3Dp0qWYMWMGHnzwQYwePbptjaAAfsurjS7eLs4FW4kCWLBDy46RAAmQQOgJbNoEXH11+7rx2WdAPL77ur4P7Ldf2+/9618De+3VtnoPP/wwbrzxRrzwwgsYPHgwbrjhBrz77rt48skn23ajtKs5A8gZwHYHj1SkADrhY2USIAESIIFOJFAoM4BbtmzBMcccg0svvRSXXHIJjj76aFx22WX4wQ9+0G56FEAKYLuDhwLohI6VSYAESIAEskCgM9YADhsGXH552xovawAHDmxbnfSrf/azn0Gk7fLLL8ePf/xjvPTSS9h3333bfUMKIAWw3cFDAXRCx8okQAIkQAJ5TiAfdgGnEMm6v+nTp+N73/seevbsif/+7/92okcBpAA6BRA/ATvhY2USIAESIIEQEMiXcwAnTZqEVatW4fbbb4fsAnYpFEAKoEv8cA2gEz1WJgESIAESIIHWE7j11luxYMECvPrqq9t3BbsUCiAF0CV+KIBO9FiZBEiABEiABFpPQM4DHD9+PGbNmtX6Sru5kgJIAXQKIn4CdsLHyiRAAiRAAiSwRwKbN2/GH//4R3zwwQd48803tx/9MlROonYsFEAKoFMIUQCd8LEyCZAACZAACeyRQGNjIyZMmABrLWQn8OTJkzuEGAWQAugUSBRAJ3ysTAIkQAIkQAI5IUABpAA6BR4F0AkfK5MACZAACZBATghQACmAToFHAXTCx8okQAIkQAIkkBMCFEAKoFPgUQCd8LEyCZAACZAACeSEAAWQAugUeBRAJ3ysTAIkQAIkQAI5IUABpAA6BR4F0AkfK5MACZAACZBATghQACmAToFHAXTCx8okQAIkQAIkkBMCFEAKoFPgUQCd8LEyCZAACZAACeSEAAWQAugUeBRAJ3ysTAIkQAIkQAI5IUABpAA6BR4F0AkfK5MACZAACZBATghQACmAToFHAXTCx8okQAIkQAIkkBMCFEAKoFPgUQCd8LEyCZAACZAACeSEAAWQAugUeBRAJ3ysTAIkQAIkQAI5IUABpAA6BR4F0AkfK5MACZAACZBATghQACmAToFHAXTCx8okQAIkQAIkkBMCFEAKoFPgUQCd8LEyCZAACZAACeSEAAWQAugUeBRAJ3ysTAIkQAIkQAI5IUABpAA6BR4F0AkfK5MACZAACZBATghQACmAToFHAXTCx8okQAIkQAIkkBMCFEAKoFPgUQCd8LEyCZAACZAACeSEAAWQAugUeBRAJ3ysTAIkQAIkQAI5IUABpAA6BR4F0AkfK5MACZAACZBATghQACmAToFHAXTCx8okQAIkQAIkkBMCFEAKoFPgUQCd8LEyCZAACZAACeSEAAWQAugUeBRAJ3ysTAIkQAIkQAI5IUABpAA6BR4F0AkfK5MACZAACZBATghQAMMtgCoWi10F4FKl1DAAxlo7J5FI3J+KJq31sQBuBnCIUmpjMpl8tFu3btevWLHi69Q1o0eP7r1169Y5AM4B0AfAEs/zrqisrDQtRSUFsCVC/DkJkAAJkAAJ5B8BCmCIBdD3/dnW2quttTd4nvcOgMnWWhHCacaYB6PR6EGe572rlFrS2Nj4G6XUUKXUbdba1xKJxJmpcPR9/wlr7WEArgGwCcAvAAxsaGgor6mp+XJPYZsSwN/9bgFOPrk8/yKcLSIBEiABEiABEtiJAAUwpAI4bNiwnr169VoL4PfGmJ+mRjYWi72klOpmjDlaa32LUurHmzdvHrhmzZpv5Bqt9aUA7mxsbBxRXV29OhqNHul53mvJZPKUqqqqZ5uuGQhgJYBbjDG/ao0Ajhu3AOXl5Zg5E9hnH75pJEACJEACJEAC+UyAAhhSAQTglZWVHVRXV7e2urpaRHB78X3/GZm9i8fj47TWvwHwT8aYfmk/P89a+6C1dlwikXhfay2zfVcaY/oCsKnrtNYLAfQ1xsgn5N2W1Ayg7y/A4MHlGD4cuO66fA55to0ESIAESIAESIACGF4BzIjekpKSQZFI5BIAs5VSl8bj8Xui0Wi5zO5Za//YrVu3m7Zt2zbY87wHADQaYw4V4dNazwNQaowZk37DWCx2u1JqujFmUGsEUKkFGDKkHCNHAj/7GVBSwpeLBEiABEiABEggXwlQAAtAALXWUwHIxg+rlFrU2Nh4flVV1TYJulgsdplS6vcyY9gUhKsAHGuM+Vj+rrV+CkBvY8z49CD1ff8ma+01xpgerRVApcrRrRtwxRXAxRcDSuVr2LNdJEACJEACJFDcBCiABSCAvu+PtNYOBTBaZgCttcsSicRErbWsDZR1gP+hlHrUWjtQNowA6JFMJo+pqqr6XD4ZW2t77kYArzLG9GqLAMq1Y8YAxxwDTJ8O9O9f3C8Ye08CJEACJEAC+UiAAlgAApgeWFrriwD8CcAEADK794gx5uLUNdFodF/P86qVUv8Vj8d/orWeLxOFxpixzWYA77DWTjHGDG6NAPbtuwCbNpVjr72AsU136t4dOPNMYOJEwEvNP+bjW8A2kQAJkAAJkECREaAAhlQAtdayU3eSSJ4xZl2a4Mm6v+UApgN4wFo7M5FI3NVMEt8GsNYYc2rTp94fpW8UkWu11osAyMzg8a0RwEMPXYC+fcsRiQANDZk1RowALrwQOOCAInu72F0SIAESIAESyFMCFMCQCmBJSckBkUjkQ6XUtfF4/NZUfGmtrwQgZ/19Ryn1irX26UQicWHaz0UcqwH8rzHm8qaDohd7nje5srJSdhCjaZawRik1O/3eu4rh5ucAbt4MPPww8PrrmVfLDOCJJwKnnYbt6wRZSIAESIAESIAEckeAAhhSAWyapbtbdupaa29USr1nrZWNHLMA/NkYc5nW+ocAfqeU+m8AD1lr9wUg6wKHe543rrKyUjaEyGzfi7J+UCk1y1q7HsDPlVL96+vrR7f2IOgFC4JzAFOlshKYOxdY++0BNcFPBg4EZswADjood0HPJ5MACZAACZBAsROgAIZYACdMmNCltrZWsnfIGr8DrbWrlVJ3GWPk/L/tJRaLTfc87yprrSjXOskK4nnezyoqKj5MXTNq1Ki+kUjkt0qps5p2C78aiUSurKioSLT0guwpFVx9PfDkk8DTTwPJZOadDj8cOP98bF8zyEICJEACJEACJJBdAhTAEAtgdkNl109rTS7g2lrg3nuBmprMe/TuDZx3HnDkkTwyJh/Gkm0gARIgARIoHgIUQAqgU7S3RgDlAdYCS5YACxYAW7dmPtL3g00ig/Z45LRTM1mZBEiABEiABEggjQAFkALo9EK0VgBTD9m4EZg3D3jvvczHdukSbBCRjSLyZxYSIAESIAESIIHOI0ABpAA6RVdbBTD1sPffBx54ABAhTC9DhgAXXQSMGuXULFYmARIgARIgARLYAwEKIAXQ6QVprwDKQ+VT8GOPAYsXB5+IU0VSyB13HHDWWUDPnk7NY2USIAESIAESIIFdEKAAUgCdXgwXAUw9WDaHyCYR2SySXvr1A6ZO3ZFZxKmhrEwCJEACJEACJPAtAQogBdDpdegIAZQGNDYCzz0HLFwIyPEx6UVyC4sIMq+w01CxMgmQAAmQAAlQANNiQDEe2k+gowQw1QI5OFoOkJaDpNNLjx7A2WcD48czr3D7R4s1SYAESIAESCAgwBlAzgA6vQsdLYDSGFkP+NZbwPz5gKSWSy8jRwabRIYOdWo2K5MACZAACZBAUROgAFIAnV6AzhDAVIO+/hp46CHgzTczmyh5hU8+GTj1VKBrV6fmszIJkAAJkAAJFCUBCiAF0CnwO1MAUw2rqADuuw9Yty6zqfvuGxwgXVrq1AVWJgESIAESIIGiI0ABpAA6BX02BFAaWFcHLFoEPPvsznmFjzgiyCvcp49TV1iZBEiABEiABIqGAAWQAugU7NkSwFQj16wJjoxZtSqz2ZJXeMoU4PDDmVfYaUBZmQRIgARIoCgIUAApgE6Bnm0BlMYmk8DLLwOPPgps25bZ/LIyYMYMQD4Ps5AACZAACZAACeyaAAWQAuj0buRCAFMN3rAhSCe3bFlmF2RjyOmnAyecAEQiTt1jZRIgARIgARIoSAIUQAqgU2DnUgCl4XJkTCqv8JdfZnZl2LDgyJgRI5y6yMokQAIkQAIkUHAEKIAUQKegzrUAphr/zTfBJ2H5NJxeJK/wxInAmWcCcpg0CwmQAAmQAAmQAA+ClhhgJhCHNyFfBDDVherqYJPIJ59kdkrSyE2bBhxyiENnWZUESIAESIAECoQAZwApgE6hnG8CKJ1paAiOi5FjY+TP6eXQQ4ELLgD69XPqNiuTAAmQAAmQQKgJUAApgE4BnI8CmOrQZ58FB0gbk9lF+RR87rnAscfyyBinwWdlEiABEiCB0BKgAFIAnYI3nwVQOiabRN54I0gpt2VLZldLSoJMIkOGAPLpeO1aYNAgQP6dhQRIgARIgAQKmQAFkALoFN/5LoCpzm3aBMyfD/z1r5ndra8Psoz07AlIjmEpw4cDM2cC++zjhIaVSYAESIAESCBvCVAAKYBOwRkWAUx1csUKYO5c4Isvgn9ZuhT4+utAALUG+vbdIYHXXeeEhpVJgARIgARIIG8JUAApgE7BGTYBlM5K9pCFC4FHHgHeey+z+/vvD4wcCchh0j/5CT8HOwUHK5MACZAACeQtAQogBdApOMMogKkOP/YYcMstgHweTi/dugXid/XVwFFHOeFhZRIgARIgARLISwIUQAqgU2CGWQBl48ettwK1tcCqVUBjYyaK888HLr8cGDjQCRErkwAJkAAJkEDeEaAAUgCdgjLMAigdv/lm4KOPgK1bg53AqbWBe+0FjB0LyGxgKq9wapOIEzBWJgESIAESIIE8IEABpAA6hWHYBXD9euDOOwMJlCNj1q0DPv8cGDUqM3XcAQcEeYUPPNAJFyuTAAmQAAmQQF4QoABSAJ0CMewCmOp8+jmAgwcDCxYAr7ySiUbyCn//+8AZZwDduzthY2USIAESIAESyCkBCiAF0CkAC0UAdwUhkQgyiXz6aeZP5XzA6dOBgw92QsfKJEACJEACJJAzAhRACqBT8BWyAAoYySX89NPAU0/tnFf4u98N8grvvbcTQlYmARIgARIggawToABSAJ2CrtAFMAVHZgFlNlBmBdNLr17AOecAxxzDvMJOgcTKJEACJEACWSVAAaQAOgVcsQigQJJNIq+9Fhwg3TyvcCwGzJgByPpBFhIgARIgARLIdwIUQAqgU4wWkwCmQH31FfDgg8A772Si69IFmDQJOOUUQP7MQgIkQAIkQAL5SoACSAF0is1iFMAUsA8+AO6/H5CjZNKLpJO78EJAZgVZSIAESIAESCAfCVAAKYBOcVnMAijgJK/wE08AL7wQfCJOL8ceG6wPlHWCLCRAAiRAAiSQTwQogBRAp3gsdgFMwfvwQ+Dee4HVqzNxyg5h2Sk8bhw3iTgFGiuTAAmQAAl0KAEKIAXQKaAogDvwJZPBTKDMCNbVZWKVMwOnTQMGDHDCzcokQAIkQAIk0CEEKIAUQKdAogDujE/SycnawBUrMn8m2UPOPBOYOBFgXmGnsGNlEiABEiABRwIUQAqgUwhRAHeNT9YDyi5h2S28aVPmNZJPWPIKS35hFhIgARIgARLIBQEKIAXQKe4ogHvGt3lzcG6gnB+YXmQG8IQTgNNOY15hpwBkZRIgARIggXYRoABSANsVOKlKFMDW4TMmyCTy2WeZ18uaQDlAury8dffhVSRAAiRAAiTQEQQogBRApziiALYeX319kFNYcgs3NmbWO+wwYMoUYK+9Wn8/XkkCJEACJEAC7SVAAaQAtjd2ttejALYdX21tMBtYXZ1ZV84LPP984MgjeWRM26myBgmQAAmQQFsIUAApgG2Jl52upQC2D59sEnnllWB94NatmffQOsgkst9+7bs3a5EACZAACZBASwQogBTAlmJkjz+nADrhw8aNwU7hpUsz7yO5hE89FTjpJOYVdiPM2iRAAiRAArsiQAGkADq9GRRAJ3zfVl62DHjgAWDDhsz7DR4cHBlTUtIxz+FdSIAESIAESEAIUAApgE5vAgXQCV9GZfkU/PjjwEsv7ZxX+LjjgLPPBnr27Ljn8U4kQAIkQALFS4ACSAF0in4KoBO+XVZetSrIK7xmTeaP+/YFpk4Fxo7lJpGOp847kgAJkEBxEaAAUgCdIp4C6IRvt5XlmJjnnwf+8hdAjo9JL4ccEuQV7t+/c57Nu5IACZAACRQ+AQogBdApyimATvharPz558DcuUBFRealkldYPgnLp2HmFW4RIy8gARIgARJoRoACSAF0eikogE74WlVZjoz561+B+fOBr7/OrDJiRLBJZNiwVt2KF5EACZAACZDAdgIUwHALoIrFYlcBuFQpJQpgrLVzEonE/an49n1/CIDbrLUnA+gK4K/W2msSicT7qWtGjx7de+vWrXMAnAOgD4AlnuddUVlZaVp6TyiALRHquJ+L/D38MPDGG5n3lBlAOS6mrCzYRTxoEHcNdxx13okESIAECpMABTDEAuj7/mxr7dXW2hs8z3sHwGRrrQjhNGPMg+Xl5X3q6+uXAfgGwA0AtgG4EUBJfX39d1auXLk9M63v+09Yaw8DcA2ATQB+AWBgQ0NDeU1NzZd7Cn0KYPZ/MVRWBplE5POwFNk9/Pe/B+nlotFgbeDw4cDMmcA++2S/fXwiCZAACZBA/hOgAIZUAIcNG9azV69eawH83hjz01SoxWKxl5RS3YwxR/u+f4O19orGxsbS6upquRYjR47cr2vXriKLV4skRqPRIz3Pey2ZTJ5SVVX1rFyjtR4IYCWAW4wxv6IA5t+LLBtDFi0CnnkGeOedzE/DkkFk1KhgFvC66/Kv7WwRCZAACZBA7glQAEMqgAC8srKyg+rq6tam5K5pNu8Zmb2Lx+PjtNbymfctY8xluws1rfXPAVxljOkLwKau01ovBNDXGHMsBTD3L+ruWvDaa8CVVwJffZV5RdeugQT++tfBrCALCZAACZAACaQToACGVwAzIrmkpGRQJBK5BMBspdSlgwcP/nNtbe0WANdaa/sqpX4gYgjg1WQy+S9VVVV/b5rtmweg1BgzJv2GsVjsdqXUdGPMIApg/v7SkPWAf/wj8MkngJwf2NCQ2VZZGyizgLIukIUESIAESIAEUgQogAUggFrrqQBk44dVSi1qbGw8H8DenufJGr9PAFQrpW6x1vaw1t6klNq/a9euB69YseJTrfVTAHobY8anvxa+798km0WMMT0ogPn7C6O6Gpgj23dkgec2QP6+bt2O9o4ZAwwYsCOvcCSSv31hy0iABEiABLJHgAJYAALo+/5Ia+1QAKNlBtBau8xae5HneR8BqN2yZUtszZo1shEEJSUlB0QikYRS6tfxePx63/efsdb23I0AyqfhXhTA7L2Q7XnSzTcDH8lINxURQBHBbt2CrCGpMnQocOGFwadhFhIgARIggeImQAEsAAFMD2Gt9UUA/mStnaiUWmytvT+RSFzY7Jr3RAyNMadqrecDiBlj0lRh+87gO6y1U4wxgymA+f1LYv164M47MyVw8GBAhO/ddzPzCisFTJgAnHUW0GOPc7v53We2jgRIgARIwI0ABTCkAti0U3cSgKeMMd9+9ItGo+We5y1XSk2z1v6HtXZJIpGQT8LfFq3135RSlfF4/LymT70/Msb0a3bNIgAyM8mMbLUAACAASURBVHg8BdDtJctWbZn1W7s28xzAmpogr3BtbWYr+vUDpk8HJK0cCwmQAAmQQPERoACGVACbPuV+qJS6Nh6P35oKXa31lXLwM4ByALMAnNW1a9eSFStWrJdrfN/3rbV/k/MCE4nE77TWsst3sed5kysrK2UHMaLR6L6e59UopWan33tXrwfPAcz/XxqyMeS554CFC3feJCKfiKdOBUQIWUiABEiABIqHAAUwpAIoIaq1vlt26lprb1RKvWetlY0cIn1/lqNfmtYGvquUkjP9/g1A92QyKbuEvR49ehyyfPnyzU33eVHWDyqlZllrRRR/rpTqX19fP5oHQRfOLwOZHZS8wnKQdHqRT8GpvMLyiZiFBEiABEig8AlQAEMsgBMmTOhSW1sr2TsuBnCgtXa1UuouY8xv0mYES621tyqlJgBoBPCsUurKeDz+7UfBUaNG9Y1EIr9VSp0l5wvKUTGRSOTKioqKREuvAGcAWyKUXz+XvMJydIyklNu8Xf93FNkcInmFh0jyQBYSIAESIIGCJkABDLEA5kNkUgDzYRTa3oZNm4CHHgLeeiuzruQVPuUUYPJkQA6TZiEBEiABEihMAhRACqBTZFMAnfDlvLLkEJbPwulnB0qj5OBoOTLG93PeRDaABEiABEigEwhQACmATmFFAXTClxeV6+qCDSKyUSSZzGzSUUcB550H9O6dF01lI0iABEiABDqIAAWQAugUShRAJ3x5VXn1auC++4KUcumlTx9gyhTgsMMAbhLJqyFjY0iABEig3QQogBTAdgePVKQAOuHLu8oyA7h4MfDYY0FqufRy0EHAjBnAQMkozUICJEACJBBqAhRACqBTAFMAnfDlbWXJLvLAA8Dy5ZlNlI0hZ5wBnHACIBtGWEiABEiABMJJgAJIAXSKXAqgE768rixHxrz3XiCCX32V2dQDDgg2iYwYkdddYONIgARIgAR2Q4ACSAF0ejkogE74QlF5yxbg0UeBJUsymyvrAY8/HjjzTKB791B0hY0kARIgARJoIkABpAA6vQwUQCd8oapcVRVsEvnkk8xm9+8f5BUePTpU3WFjSYAESKCoCVAAKYBOLwAF0Alf6CpLXuFnngGefHLnvMLjxgEXXAD07Ru6brHBJEACJFB0BCiAFECnoKcAOuELbeXPPgtmA43J7ELPnsC55wLHHMMjY0I7uGw4CZBAURCgAFIAnQKdAuiEL9SVZZPI668HeYVlnWB6iUaDTSKDB4e6i2w8CZAACRQsAQpglgRwyJAhvXr37n00gFEA9lVKNVprP/U878MuXbq8umLFirowRhkFMIyj1rFtlh3C8+cDb7+ded9IBJg0KfivS5eOfSbvRgIkQAIk4EaAAtjJAhiNRk/3PO9yAOMByP8ZVM2GzALYYq19USl1lzHmSbchzW5tCmB2eefz0/72N+D++4Evvshs5X77ARddBMRi+dx6to0ESIAEiosABbCTBDAWi52olPpPSZYB4K8AFltrlyulqpRSX1lrlVJqQDKZHK6UOhLAsQAOsdauUErNCosIUgCL6xdGS72V7CF/+Qvw/POAfCJOL7IuUNYH9urV0l34cxIgARIggc4mQAHsBAHUWt8P4BQAv2tsbPz/qqurV7dmIKPRaHkkEvlHa+2lAJ40xkxrTb1cXkMBzCX9/H32Rx8B994LyP+ml733DnYKy45h5hXO3/Fjy0iABAqfAAWwEwQwFovdWl9f/6tVq1ZtbE8Iaa0l2+pPjTFXt6d+NutQALNJO1zPkrzCL74IPP44UNdshet3vhOcHThgQLj6xNaSAAmQQKEQoAB2ggAWSnC0ph8UwNZQKu5rZE2grA2UNYLppVu3IIuIZBNhXuHijhH2ngRIIPsEKIAUQKeoowA64SuayrIe8N13gXnzgE2bMrs9fHiwSUT+l4UESIAESCA7BCiAWRDAESNG9Ojevft11lpZFygno3m7GF5rjBmanWHvuKdQADuOZTHcSc4LXLAAeOWVzN7KDOD3vw+cfjqwZg2wdi0waBBQUlIMVNhHEiABEsg+AQpgFgTQ9/3/atrYsQbAKmtt466GOpFITMx+CLg9kQLoxq9YaycSwSYRySiSKlu3AqtWBeK3zz7Bv8qs4MyZO/5erLzYbxIgARLoaAIUwCwIoNb6UwAvGWOmA2h2OEZHD2l270cBzC7vQnqa5BV+6qngv8ZGYOlS4Ouvgx6KBI4aBcg6QZHA664rpJ6zLyRAAiSQewIUwOwI4AYAPzHG3J37Ie/YFlAAO5ZnMd7tk0+AO+4IdgunF8keIhIoB0nPmsXPwcUYG+wzCZBA5xGgAGZHAO8F0NsYc07nDWVu7kwBzA33Qnuq5BT+938HVq4EZGYwvfTrB1x/PXDqqYXWa/aHBEiABHJHgAKYBQEsLS0dYK191lorx+I+6nneZw0NDTt9Cq6qqno2d6HQvidTANvHjbUyCVRXA3PmBOcFyp8//zzz53Jw9LRpwMknM68wY4cESIAEOoIABTALAhiLxQ5XSj0KYP/drAGU/MCyCzjSEYOazXtQALNJu7CfdfPNOzKHyNmBVVWApJbbay9g7Nig74MHB0fGcHdwYccCe0cCJND5BCiAWRBArbXkAj5IKfUHAHFrbbOPXMFAG2P+t/OHvGOfQAHsWJ7FfLf164E779whgbIxRDaF9OgBdO+eSWb8eODss5lXuJjjhX0nARJwI0ABzI4AbgFwkzHmV27DlX+1KYD5NyZhb5F8Ak4/B1COhpEjY+R8wPTSty8wdWowO8i8wmEfdbafBEgg2wQogNkRwGql1H/E4/Hbsz3Anf08CmBnE+b9hYDMBr7wAvDEE0B9fSaT0aODvML9+5MVCZAACZBAawlQALMggL7v/6u19kcAxhtjPm7t4IThOgpgGEapcNq4bl2QV3jFisw+ySfis84CJkxgXuHCGW32hARIoDMJUACzIICxWOw6pdRlAAYCeBuA5D/IWAeolLLxeHxGZw52Z9ybAtgZVHnPPRGQvMJvvw3Mn79zXuERI4JNIsOGkSEJkAAJkMCeCFAAsyCAWutkK8KQu4BbAYmXkECKwObNwMMPA3KGYHqRvMInngicdlqQSYSFBEiABEhgZwIUwCwIYCEHHmcAC3l0w9G3eBy4775g40h6GTgQmDEDOOigcPSDrSQBEiCBbBKgAFIAneKNAuiEj5U7iIBsDHnySeDpp4Fks/n2ww8Hzj8/OE+QhQRIgARIICBAAewEAfR9/93GxsZr25vZIxaLnaaUmm2MGZPvgUoBzPcRKq721dYGR8bU1GT2u3fvQAKPOIJHxhRXRLC3JEACuyNAAewEAYzFYv+olLoNQDWAPyulHovH47V7CsORI0fu161bt2nW2n8EcIBS6pp4PH5PvocuBTDfR6j42iebRJYsARYsALZuzex/aWnwWXjQoOLjwh6TAAmQQDoBCmAnCKAAlvy/yWTy3wBcDKCHUmoZgGXJZFLmJr6ETEQoNQDAcABHAogB+AbAPV27dr1lxYoVn4YhVCmAYRil4mzjxo3AvHnAe+9l9r9rV+DUU4GTTgIioUu+WJxjyV6TAAl0PAEKYCcJYGqoDj744P5bt279ged5p1prDwfQLKkVtimlliSTyUWRSGRuZWXlFx0/zJ13Rwpg57HlnTuGwLJlwdmBIoTpZciQ4MiYUaM65jm8CwmQAAmEiQAFsJMFMD0YysvLuzU0NAy11g70PC+ZTCY/HTJkyGeLFy/eZW7gMAQSBTAMo8Q2yqfgxx4DFi8G5BNxqkgKueOOC/IKS85hFhIgARIoFgIUwCwKYCEGFQWwEEe1cPu0cmWwSeTjZvl4+vUDpk0DxuT9tqvCHRv2jARIILsEKIAUQKeIowA64WPlHBCQvMLPPQcsXLhzXuGxY4GpUwERQhYSIAESKGQCFEAKoFN8UwCd8LFyDgnIwdFz5wKVlZmNkE/B8kl4/HjmFc7h8PDRJEACnUyAAkgBdAoxCqATPlbOMQFZD/jWW0FeYUktl15kc8iFFwJDh+a4kXw8CZAACXQCAQogBdAprCiATvhYOU8IfP018NBDwJtvZjZI8gqffHJwbIwcH8NCAiRAAoVCgAJIAXSKZQqgEz5WzjMCFRVBXuF16zIbJgdHywHScpA0CwmQAAkUAgEKYBYFMBqNlkQikf2TyeQuj59NJBJLwhZUFMCwjRjb2xKBujpg0SLg2Wd3zit81FHAeecBklqOhQRIgATCTIACmAUBLCsrO7CxsfFBAN/bTbAoANYYE7q8BBTAML/+bPueCKxZExwZs2pV5lV9+gBTpgCHHca8wowgEiCB8BKgAGZBALXWjwA4E8C91lpJTLVtVyGTSCTuClsoUQDDNmJsb1sIJJPAyy8Djz4KbGv21paVBZtEBg5syx15LQmQAAnkBwEKYHYE8Etr7R8TicS/5sewd1wrKIAdx5J3yl8CGzYADzwASFq59CIbQ04/HTjhBOYVzt/RY8tIgAR2RYACmB0BlCyk1xhj7i60MKQAFtqIsj+7IyBHxrz/fiCCX36ZedWwYUFe4REjyI8ESIAEwkGAApgdAVxgrW1MJBLnhyMsWt9KCmDrWfHKwiDwzTfBJ2H5NJxeJK/wxInAmWcGqebkoGnZPVxSUhj9Zi9IgAQKiwAFMAsC2LQJZDGARdba+UqptZ7nJZuHUmVlpQlbeFEAwzZibG9HEaiuDjaJfPLJjjtu3QpIvmERvwEDgn8fPhyYORPYZ5+OejLvQwIkQALuBCiAWRBArXW67NndDVs7dgGrWCx2FYBLlVLDABhr7ZxEInH/rp7h+/6PrbX/t6GhYURNTc1HqWtGjx7de+vWrXMAnAOgD4Alnudd0RohpQC6v4S8Q3gJNDQEx8XIsTHy56VLATlUWsq++wazf926BRJ43XXh7SdbTgIkUHgEKIDZEcBfyDEvLYWPMeaXLV2T/nPf92dba6+21t7ged47ACZba0UIpxlj5NiZb0tpaamWHcjW2h4NDQ0j0wXQ9/0nrLWHyTpFAJsASHsHNjQ0lNfU1DRb7ZTZQgpgW0aM1xYqgc8+A26/HXjsscwedukCjBwJ7L8/MGsWPwcX6vizXyQQRgIUwCwIYGcExrBhw3r26tVrLYDfG2N+mnpGLBZ7SSnVzRhzdNpzPd/3XwUw1Fo7LF0Ao9HokZ7nvZZMJk+pqqp6VuporeVgi5UAbjHG/GpP7acAdsbo8p5hJPD668CcOYB8GpbZwPSy997A9dcHO4ZZSIAESCAfCFAAsyiA0Wh0X8/zJgGQvYJ1SqnV1tpnjDHNEk+1KjS8srKyg+rq6tZWV1eLCG4vvu8/I7N38Xh8XNq/zbLW/sBa+xul1O/TBVBr/XMAVxlj+qbPUmqtFwLoa4w5lgLYqvHgRUVOQMRPBLC+PpBA2QSSXg49FLjgAmDSJOYVLvJQYfdJIC8IUACzJIBa639WSt0mn2CR+UwRwVnxePwOl4goKSkZFIlELgEwWyl1aTwev0fuF41Gyz3PexvASQBkP+I9zQRwHoBSY8yY9OfHYrHblVLTjTGDKIAuI8O6xUTg5puBj5pW18rZgYkEIBtD9toLGDs2ILHffsEB0loXExn2lQRIIN8IUACzIIC+759hrZXVQUsB3KaUqkgmkx6AMs/zZA3fGGvtGYlEYlF7AkRrPRWAbPywSqlFjY2N51dVVUnegojW+i1r7atyCLXW+uJdCOBTAHobY8anP9v3/ZustXJ2oQjrbgs/AbdnxFinUAmsXw/ceecOCWxsBLZsAbp3DzaDpJejjwbOPZd5hQs1FtgvEsh3AhTALAig1vo1AD27du16xIoVK+rSg6K8vLxbfX39m9baLxOJxMT2BIzv+yOttUMBjJYZQGvtMrlX0+fdC+vq6g5etWrV1l0JoHwyttb23I0AyqfhXhTA9owK6xQzgdQn4NQ5gKtXB0fGfPhhJhWZGZTPwt/9LvMKF3O8sO8kkAsCFMAsCKDv+5uttdcbY/7vrgZZa32F7LxtWofnFAda64sA/MlaO1Ep9axSalI8Hl8iN/V9/2JrrWQjiRljJMV9Ums9v+nvTR+ogsf7vn+HtXaKMWYwBdBpSFiZBLYTkLzCL70EPP74znmFy8uBGTN2nB1IZCRAAiTQ2QQogFkQQK21HKXyK2PMv+9GAK8F8NO2CGDTTl3ZUPJU+iaSpjV/HwCoFI9rtt4w/fGLjTHHN33q/ZExpl/6D7XW8jlaZgaPpwB29mvI+xcTAflMfP/9wAfylqYV+UR8xhnA978PeLJAhIUESIAEOpEABTA7Aijr7PyGhoaxzc/VO/jgg/tv27ZtqVLKxOPxk1s71iUlJQdEIpEPlVLXxuPxW1P1tNZXyjpDa+1R1tr69Pt5nieHUNwI4PRIJJKoqKhIaK1ll+9iz/MmV1ZWyg5i2Tgiu5VrlFKz0++9q7ZxDWBrR4zXkcAOApJX+N13gQcfBL76KpPMAQcEeYUPPJDESIAESKDzCFAAsyCA0Wj0CM/z5DPsOmvtHzzPi8vMnLW2FMD/K8e2KKUmxuNxWSvY6qK1vlt26lprb1RKySHPspFjFoA/G2Mua36jXa0BlGu01i/K+kHZjWytXQ/g50qp/vX19aN5EHSrh4MXkkCbCcgGkQULgFdeyawqeYVlJlBmBGUDCQsJkAAJdDQBCmAWBLBJsiYD+C8AkrItlRVEAfg4mUz+c1VV1V/aOrgTJkzoUltbK9k7ZHfvgdba1Uqpu4wxv9nVvXYngKNGjeobiUR+q5Q6C4B8fHo1EolcKTOELbWJM4AtEeLPSaBlAnJczH33AZ9+mnmt5A+WtYHf+U7L9+AVJEACJNAWAhTALAlg06B4WutxSinZtSvyt9IY8y6AxrYMWj5dSwHMp9FgW8JMQLKHPP008NRTO2cSkV3CsltYMoqwkAAJkEBHEKAAZlcAO2LM8uoeFMC8Gg42pgAIyCygzAbKrGB66dUrODdQzg+UT8QsJEACJOBCgALYCQLo+/7ryWTy54lE4jkZHPl7S4NkrbXN8ve2VCUvfk4BzIthYCMKjIBsEnntNeCRR4KDpNNLLBZkEtl//wLrNLtDAiSQVQIUwE4QQK31SqXUj+Px+BMymlprOXMvte5vtwNsjBmZ1dHvgIdRADsAIm9BArshIDuEZafwO+9kXtClS5BT+JRTAPkzCwmQAAm0lQAFsBMEsK2DEObrKYBhHj22PSwE/vY3YO5cQM4QTC8yCyizgTIryEICJEACbSFAAcyCAGqtb4xEIgsqKir+tqvB0VofppT6P/F4fGZbBi8frqUA5sMosA3FQGDbNuCJJ4AXXgDkE3F6OfZY4JxzAFknyEICJEACrSFAAcyOACattTMSicQDuxqUWCx2tRy6bIzp0ZpBy6drKID5NBpsSzEQkHzCkldY8gunF9khPHUqcOih3CRSDHHAPpKAKwEKYCcIoNZ6FICXAUSaBkiWa28EsHUXAybn7g2U1G3GmNCd9kUBdH0FWZ8E2k5A8grLTKDMCNbVZdYfPRqYNg2QMwRZSIAESGB3BCiAnSCAAjsWi10H4AT5s1LqOBE8a+1nzQdCKSVnAH6eTCbnVFVVvRe2UKUAhm3E2N5CIrBuXZBXeMWKzF5J9pAzzwQmTmRe4UIab/aFBDqSAAWwkwQwfZCa7wruyAHM9b0ogLkeAT6/2AnIekDZJSy7hTdtyqQh+YQlr7DkF2YhARIggXQCFMAsCGAhhxwFsJBHl30LE4HNm4NzA+X8wPTiecAJJwCnnca8wmEaT7aVBDqbAAWwEwRQa32LUmpePB5fLgMof2/FQMpB0PLZOFSFAhiq4WJji4CAMUEmkc+aLTgZMCDIK1xeXgQQ2EUSIIEWCVAAO0cAZdfvhYlE4v4mAUy2OBKACGBq00grLs+PSyiA+TEObAUJpBOorw9yCktu4cZmmcYPOwyYMgXYay8yIwESKGYCFMBOEMCysrIDv/zyy89ra2u3J3GSv7cmyCoqKj5szXX5dA0FMJ9Gg20hgUwCn3wSHBlTXZ3573Je4PnnA0ceySNjGDMkUKwEKICdIIDFFEwUwGIabfY1jARkk8grrwTrA7c2O4jK94PPwvvtF8aesc0kQAIuBCiAWRLA0tJSba0dE4/H58uAaa0vttbKAdCN1to7EonEH10GMld1KYC5Is/nkkDbCGzcGOwUXro0s57kEj71VOCkk5hXuG1EeTUJhJsABTALAuj7/tHW2hcArDTGlEWj0bGe50l6d8nsKQdEy8HR040xD4YtnCiAYRsxtrfYCSxbBjzwALBhQyaJIUOCvMIlJcVOiP0ngeIgQAHMggDGYrGnlVKxZDJ5RlVV1Qqt9e8A/BBAuTEmHovFnlJK9TPGHBG2sKMAhm3E2F4SCD4FSxaRF1/MzCusFDB+PHD22UDPniRFAiRQyAQogFkQQK31BqXUL+Px+O1Nn39lSfbXxphD5O+xWOwypdRvjDF9whZsFMCwjRjbSwI7CKxaFWwSWbMmk0rfvkE6Odkp/PnnwKBBnBlk3JBAoRGgAGZHAL8GcIUx5m6tdSmAvyulfh2Px3/SJICXK6VuNMZITuBQFQpgqIaLjSWBnQjIMTHPPw/85S+AHB8jRWYI//734ODoaDT43+HDgZkzmWOYIUQChUKAApgdAZQcv6uMMWenff6dYIx5ZdiwYT179er1CoAtxpjxYQssCmDYRoztJYFdE5CZvrlzgYqKYKPI1/L/tgKIRICRI4HBgwFJLXdd6I6r54iTAAnsigAFMAsC6Pv+P1lr7wbwFYC9AbxvjDm0tLR0XDKZfBzA/tbasxKJxMKwhSkFMGwjxvaSwO4JyJExCxYAv/zljtnA1NXyOVjr4GfcKMIoIoHwE6AAZkEAJUy01hcAuEgptcbzvF9WVFR80vQ5+H+stf8eRvmTflEAw/9LgD0ggXQCb7wB3H03UFOzczo52STyD/8AXHUV0LUruZEACYSZAAUwSwIY5iDZU9spgIU6suxXsRKQrCFz5gS9l7MDEwngm2920BgzJpgBlAOky8qKlRL7TQLhJ0ABzKIAlpaWHpxMJs9WSo0AUJdMJld7nveXeDy+PKyhRAEM68ix3SSwewI33wx89FHw82Qy+PPq1UCfPsDYsTvqHXEEcN55zCvMWCKBMBKgAGZJAGOx2K1Kqaux8/MsgDuMMVeGMYAogGEcNbaZBPZMYP164M47d0igXN2vH9CjB/Dpp5l1e/cGpkwBDj+ceYUZVyQQJgIUwCwIoO/7l1hr/0cptTCZTN5sra1oaGjwunTpUhaJRK611p4K4B+NMfeGKXikrRTAsI0Y20sCrScgn4PXrt1xDqDMBi5ZAjz66M55hUtLg8/CcmYgCwmQQP4ToABmQQC11u9ZazcmEomJuwgJ5fv+S9bansaYw/M/ZDJbSAEM24ixvSTgTkDWBs6bB7wnB1ylFdkYctppwIknBsfHsJAACeQvAQpgdgRQllBfY4z5z12Fgtb6XwD8OzOB5O+LwpaRAAnsTEAEUERQhDC9DB0KXHRRcH4gCwmQQH4SoABmRwDXAfidMebfdiOAvwDwI2PMgPwMk923ijOAYRsxtpcEOpaAZA2RT8Ivv7xzXuEJE4CzzgrWDrKQAAnkFwEKYBYEMBaLPaSUOs7zvMMqKytXpYeA7/sjrbV/BfCKMeac/AqPlltDAWyZEa8ggWIgIOcGSl7h2trM3srmkenTgUO2Zz5nIQESyBcCFMAsCGDTgc9vK6U8a+0D1tq453kKgOQFvsBam0wmk0dUVVWtyJfAaG07KICtJcXrSKDwCUhe4WefBRYuBBoaMvsrx8dMnRrsJmYhARLIPQEKYBYEUIZZRCkSifyntfaIZsP+llLqR/F4/J3ch0PbW0ABbDsz1iCBQicgO4clr3BlZWZP5VPw2WcDxx3HI2MKPQbYv/wnQAHMkgCmQqGkpGRQJBIZYa1VyWRyZXV19dr8D5Pdt5ACGObRY9tJoPMISF7hN98EHnoI2Lw58zmjRgWbRIYM6bzn884kQAJ7JkAB7EQBHDly5H7dunWTGb+u1tqlxpiaQgtICmChjSj7QwIdS2DTpkAC33or876eB5xyCjB5MvMKdyxx3o0EWkeAAtg5Aqi01r+Wnb0A0k/DerhHjx6XLF++vNn/P9y6wcrHqyiA+TgqbBMJ5B+BigrgvvuAdXImQlqRg6MvvBDw/fxrM1tEAoVMgALYCQIYi8UuV0rdDkB2985XSjVaa08CMEkp9ad4PH5JoQQVBbBQRpL9IIHOJ1BXF2wQee65IMdwejnqqCCvsKSWYyEBEuh8AhTAThBArfVSa+3aRCIxWXKpp4YxFov9QSn1T1u2bOm3Zs0aORw69IUCGPohZAdIIOsE1qwJjoxZlXEoFtCnT5BX+LDDuEkk64PCBxYdAQpg5wjgJmvt1YlE4q70iCotLR2XTCbfTiaT46qqqpolUQpn7FEAwzlubDUJ5JqAzAAuXgw89hiwbVtmaw46KMgrPHBgrlvJ55NA4RKgAHaOADYqpf4hHo/PTQ+dph3An3qed3xlZeXiQggrCmAhjCL7QAK5I7BhA3D//cDy5ZltkLzCZ5wBnHACIBtGWEiABDqWAAWwcwQwaa29MJFI3N9sBnBAMpn8XCl1Qjwef7FjhzI3d6MA5oY7n0oChURAjoxJ5RX+8svMnh1wQLBJZMSIQuox+0ICuSdAAaQAOkUhBdAJHyuTAAmkEdiyJcgrvGRJJhalgOOPB848E+jenchIgAQ6ggAFsPME8MeNjY2Ppw9SJBLZRym1FMD0hoaG15sPYE1NzUcdMajZvAcFMJu0+SwSKA4C1dXBJpFPPsnsb//+QV7h0aOLgwN7SQKdSYAC2EkCCMDuZuAkB/CufmaNMV06c7A7494UwM6gynuSAAlILmHJK7xo0c55hceNAy64AOjbl5xIgATaS4ACsGuURwAAIABJREFU2DkC+Mf2DIgx5v+0p14u61AAc0mfzyaBwifw2WfBAdLGZPa1Z0/g3HOBY47hkTGFHwXsYWcQoAB2ggB2xkDl6z0pgPk6MmwXCRQOAdkk8vrrwMMPA7JOML2UlAR5hQcPLpz+sickkA0CFEAKoFOcUQCd8LEyCZBAGwh89RUwfz7w9tuZlSIRYNKkILewHB/DQgIk0DIBCiAFsOUo2cMVFEAnfKxMAiTQDgIrVgBz5wJffJFZeb/9giNjtG7HTVmFBIqMAAWQAugU8hRAJ3ysTAIk0E4Ckj0klVdYPhGnF1kXKOsDe/Vq581ZjQSKgAAFkALoFOYUQCd8rEwCJOBI4KOPgk0iH36YeaO99gp2Cn/3u0BNDbB2LTBoECBrBllIgAQACiAF0Ok9oAA64WNlEiCBDiAgeYVffBF4/HGgrm7HDbduDT4TDxgA9OgR/Pvw4cDMmcA++3TAg3kLEggxAQogBdApfCmATvhYmQRIoAMJiOxJXuG//S246dKlwNdfA7JJRFLJDRkSHBkjEnjddR34YN6KBEJIgAIYbgFUsVjsKgCXKqWGATDW2jnpOYh93z8ewI3WWjk7f5tS6jVr7U+MMTWpeB09enTvrVu3zgFwDoA+AJZ4nndFZWVls5O3do5wCmAI33o2mQQKmICsB3z3XeCuu4BXX83saJ8+wQYR+d+f/ISfgws4DNi1VhCgAIZYAH3fn22tvdpae4Pnee8AmGytFSGcZox50Pf9o621iwE8qpS6J5lM9lZK3Qhg365du35nxYoV6yVGfN9/wlp7GIBrAGwC8AsAAxsaGspramqapWbPjCoKYCveMl5CAiSQdQIvvQTcdNPO6eRkBnDoUOD664Hjjst6s/hAEsgbAhTAkArgsGHDevbq1WstgN8bY36aiqhYLPaSUqqbMeboWCz2uFLqQGPMmNTPy8rKBjc2Nq4GILOAv41Go0d6nvdaMpk8paqq6lm5Tms9EMBKALcYY361p2ilAObNu8yGkAAJpBGQfMJz5gBffgkkEjsfID1hAvDDHwLf+Q6xkUBxEqAAhlQAAXhlZWUH1dXVra2urhYR3F58339GZu/i8fg4rfW11tpPEonEn9LDW2stp2fNM8b8UGsts31XGmMkq+a3hylorRcC6GuMOZYCWJy/HNhrEgg7gZtvBmSXsGwSWb06+E/+LDuEx44Neve97wFTpgB77x323rL9JNA2AhTA8ApgxkiXlJQMikQilwCYrZS6NB6P37OrUIhGo8d5niezhD+Mx+N3aq3nAShNnyWUerFY7Hal1HRjzCAKYNteKl5NAiSQHwTWrwfuvDOQQCmSRu7zzwE5MDq1K1j+Xc4LPO884KijmFc4P0aOrcgGAQpgAQig1noqgPtlBk8ptaixsfH8qqqqbc0DqLS0dEBjY+MbSqkePXr0KFu+fPlmrfVTAHobY8anX+/7/k3W2muMMU2HJ+w6HPkJOBuvKZ9BAiTgQkA+B6fOARw1Ktgc8sgjwDffZN5VNohIJhERRBYSKHQCFMACEEDf90daa4cCkJ2+sjFkWSKRmJgevE1r/+Tz8IFKqe/H43HZNLL9k7G1tuduBPAqY8wez9KnABb6rwj2jwQKk4CsDZS8wu9s/024o3TpsiOvsPyZhQQKlQAFsAAEMD04tdYXAZA1f8cZY7YfglBaWnqwtXahtbZ3Mpk8raqq6s1UHa31fPnia4xpWhET/MT3/TustVOMMYP3FPwUwEL91cB+kUBxEFi+PDg7cMOGzP4OHhzMBkajxcGBvSw+AhTAkApg007dSQCeMsasS4VuNBot9zzvA6XU1Hg8Pt/3/YnW2kcByK+3ScaYyvQwb/rU+yNjTL9mIrkIgMwMyjmCuy0UwOL7pcEek0ChEZC8wk88AbzwAtA8r/D48cDZZzOvcKGNOfvDVHASAyqMgVBSUnJAJBL5UCl1bTwevzVtRu9KALcBKE8mkz09z3sFQHV9ff1JK1eu/Kx5X7XWsst3sed5kysrK+UTMaLR6L6e59UopWan33tXnCiAYYwetpkESGBXBCSf8L33BruF04vsEJ42Ldg5LOcIspBAIRDgDGBIBVCCT2t9t+zUtdbeqJR6z1orGzlmAfizMeYyrfVSAAfJwdDW2tr0gFVKfZ7KBqK1flHWDyqlZllr5XDonyul+tfX14/mQdCF8JqzDyRAAq0lIMfEPP98MCNYX59Za/RoYPp0oH//1t6N15FA/hKgAIZYACdMmNCltrZWsndcLJs7rLWrlVJ3GWN+07QxpGp3oaeU+t94PC7HxmDUqFF9I5HIb5VSZ8n5ggBejUQiV1ZUVCRaCl3OALZEiD8nARIII4F164K1gStWZLa+e3fgzDOBiRMBT35bspBASAlQAEMsgPkQcxTAfBgFtoEESKAzCMh6wLffDnYLb5IkmWllxIhgk8gBB3TGk3lPEuh8AhRACqBTlFEAnfCxMgmQQAgIbN4MPPww8PrrmY2VGcATTwROOw3o1i0EHWETSSCNAAWQAuj0QlAAnfCxMgmQQIgIxOPAffcFh0qnl4EDgRkzgINkxTULCYSEAAWQAugUqhRAJ3ysTAIkEDICsjHkySeBp58O8gqnl8MPB84/P8g1zEIC+U6AAkgBdIpRCqATPlYmARIIKYHa2uDImJqazA707h3kFT7ySB4ZE9KhLZpmUwApgE7BTgF0wsfKJEACISYgm0SWLAEWLAC2bs3sSGlp8Fl40KAQd5BNL2gCFEAKoFOAUwCd8LEyCZBAARDYuBGYNw94773MzkguYdkgIhtFmFe4AAa6wLpAAaQAOoU0BdAJHyuTAAkUEIFly4KzA0UI08uQIcBFF8mZqwXUWXYl9AQogBRApyCmADrhY2USIIECIyCfgh97DFi8ODOvsKSQO+444KyzgJ49C6zT7E4oCVAAKYBOgUsBdMLHyiRAAgVKYOXKYJPIxx9ndrBfP2Dq1CCvMAsJ5JIABZAC6BR/FEAnfKxMAiRQwAQaG4HnngMWLtw5r/CYMYEIMq9wAQdAnneNAkgBdApRCqATPlYmARIoAgJycPTcuUBlZWZne/QAzj4bGD+eeYWLIAzyrosUQAqgU1BSAJ3wsTIJkECREJAjY956K8grLKnl0svIkcEmkaFDiwQGu5kXBCiAFECnQKQAOuFjZRIggSIj8PXXwEMPAW++mdlxySt88snAqacCXbsWGRR2NycEKIAUQKfAowA64WNlEiCBIiVQURHkFV63LhOAHBwtB0jLQdIsJNCZBCiAFECn+KIAOuFjZRIggSImUFcHLFoEPPvsznmFJZWcpJTr06eIAbHrnUqAAkgBdAowCqATPlYmARIgAaxZExwZs2pVJgyRvylTgMMOC3IOy2YSmSEsKSE0EnAnQAGkADpFEQXQCR8rkwAJkMB2Askk8PLLwKOPAtu27YAiB0vLZ+IBA3YcID18ODBzJrDPPoRHAu0nQAGkALY/egBQAJ3wsTIJkAAJZBDYsAF44AFA0spJWboUkI0jsknkwAOBYcMAySoiEnjddYRHAu0nQAGkALY/eiiATuxYmQRIgAR2RUCOjHn/feAPfwBefTXzCvksHIsBe+0F/OQn/BzMCGo/AQogBbD90UMBdGLHyiRAAiSwJwKST/imm4Da2syrZAZwyBDg+uuBCRPIkATaR4ACSAFsX+Q01eInYCd8rEwCJEACuyVQXQ3MmQN89RVgDLBlS+alkkHkn/8ZOOQQQiSBthOgAFIA2x41aTUogE74WJkESIAE9kjg5puBjz4KNonIbuHUn+UT8NixQdVDDwUuuADo148wSaD1BCiAFMDWR8surqQAOuFjZRIgARLYI4H164E77wzET8o33wCffx4cByO5hFNF/nzuucCxxwabRFhIoCUCFEAKYEsxssefUwCd8LEyCZAACbSKgHwOTp0DOGoU8PrrwMMP7/xZWM4IvPDCYI0gCwnsiQAFkALo9IZQAJ3wsTIJkAAJtJvApk3A/PnAX/+aeYtIBDjlFGDSJOYVbjfcIqhIAaQAOoU5BdAJHyuTAAmQgDOBFSuAuXOBL77IvNV++wWzgVo7P4I3KEACFEAKoFNYUwCd8LEyCZAACXQIAckesnAh8PzzO+cVPvroYH1g794d8ijepEAIUAApgE6hTAF0wsfKJEACJNChBFavDvIKf/hh5m1l17DsFP7ud7lJpEOBh/hmFEAKoFP4UgCd8LEyCZAACXQ4ATky5qWXgMcfz8wrLA8qLwemTwcGDuzwx/KGISNAAaQAOoUsBdAJHyuTAAmQQKcRkDWBklf4gw8yH9GtG3D66cAJJwQ5hlmKkwAFkALoFPkUQCd8rEwCJEACnUpA8gq/+y7w4INBRpH0csABwEUXAQce2KlN4M3zlAAFkALoFJoUQCd8rEwCJEACWSEgaeQWLABeeSXzcXJo9Pe/D5xxBtC9e1aawofkCQEKIAXQKRQpgE74WJkESIAEskogkQDuuw/49NPMx+6zT7A28OCDs9ocPiyHBCiAFECn8KMAOuFjZRIgARLIOoGGBuDpp4GnngLkz+lFdgnLbuG99856s/jALBOgAFIAnUKOAuiEj5VJgARIIGcEZBZQZgNlVjC99OoFnHMOcMwxPDImZ4OThQdTACmATmFGAXTCx8okQAIkkFMCsknktdeARx7ZOa9wLBZkEtl//5w2kQ/vJAIUQAqgU2hRAJ3wsTIJkAAJ5AUB2SEsO4XfeSezOV26BDmFJbew/JmlcAhQACmATtFMAXTCx8okQAIkkFcE5MzA++8H1q/PbJbMAspsoMwKshQGAQogBdApkimATvhYmQRIgATyjoDkFX7iCeCFFwD5RJxejj02WB8o6wRZwk2AAkgBdIpgCqATPlYmARIggbwlIPmEJa+w5BdOL7JDWHYKjxvHTSJ5O3itaBgFkALYijDZ/SUUQCd8rEwCJEACeU1A8grLTKDMCNbVZTZVzgycNg0YMCCvu8DG7YYABZAC6PRyUACd8LEyCZAACYSCwLp1wdrAFSsymyvZQ848E5g4kXmFQzGQaY2kAFIAnWKWAuiEj5VJgARIIDQEZD2g7BKW3cKbNmU2W/IJS15hyS/MEg4CFEAKoFOkUgCd8LEyCZAACYSOwObNwbmBcn5gevE84IQTgNNOY17hMAwqBZAC6BSnFEAnfKxMAiRAAqElYEyQSeSzzzK7IGsCZ8wAystD27WiaDgFkALoFOgUQCd8rEwCJEACoSZQXx/kFJbcwo2NmV353veAKVOYVzhfB5gCSAF0ik0KoBM+ViYBEiCBgiDwySfBkTHV1ZndkfMCzzsPOOooHhmTbwNNAaQAOsUkBdAJHyuTAAmQQMEQkE0ir7wSrA/cujWzW1oHmUS+/hpYuxYYNAgoKSmYroeyIxRACqBT4FIAnfCxMgmQAAkUHIGNG4OdwkuX7uiaCGFlJbDPPsCwYcGRMcOHAzNnBv/Gkn0CFEAKoFPUUQCd8LEyCZAACRQsgWXLgAceADZsCGRQZv+kyGdhmRGUjCIigdddV7AI8rpjFEAKoFOAUgCd8LEyCZAACRQ0AZn5u+uu4L/meYWHDAFGjAB+9jN+Ds5FEFAAwy2AKhaLXQXgUqXUMADGWjsnkUjcnwqmaDRa4nne7QCOAdBgrX3I87xZ8Xj822M8R48e3Xvr1q1zAJwDoA+AJZ7nXVFZWWlaCkoKYEuE+HMSIAESKG4Cb7wB/Md/AInEjlnAFJFu3YArrgAuvpibRLIdJRTAEAug7/uzrbVXW2tv8DzvHQCTrbUihNOMMQ+OGjWqb5cuXT4AUGutne153n7W2tsAvGmMmZwKNt/3n7DWHgbgGgAihr8AMLChoaG8pqbmyz0FJQUw268sn0cCJEAC4SIgO4PnzAlmANesAT78EJAcw6kyZgxw7LFBXuH+/cPVtzC3lgIYUgEcNmxYz169eq0F8HtjzE9TQRiLxV5SSnUzxhyttb4WwM+6d+8+/IMPPtgg1/i+f4q19slkMnl0VVXVG9Fo9EjP815LJpOnVFVVPSvXaK0HAlgJ4BZjzK8ogGF+xdl2EiABEsg9gZtvBj76KGjHN98AVVXB2sC99gLGjg3+XfIKn302cNxxzCucjRGjAIZUAAF4ZWVlB9XV1a2trq4WEdxefN9/Rmbv4vH4uCYZ/CZ9tk/qaa03KKV+F4/Hb9Bay2zflcaYvgBs6j5a64UA+hpjjqUAZuNV5DNIgARIoHAJrF8P3HnnDgmU2UDZCSz/NT9AWtYFSl5h2S3M0nkEKIDhFcCMqCgpKRkUiUQuATBbKXVpPB6/R2v9qbV2XiKR+Nf0i7XW78t6QWPMFK31PAClxpgx6dfEYrHblVLTjTGDKICd9wLyziRAAiRQTATkc3D6OYCyM/jhhwFZJ5heRAxPOinIK9y1azERyl5fKYAFIIBa66kAZOOHVUotamxsPL+qqmqb1vobWfOXSCRubCaAr1hrNycSiVO01k8B6G2MGZ9+je/7N1lrrzHG9KAAZu+F5JNIgARIoBgJyBmBc+cGcphe9t03yCtcVlaMVDq3zxTAAhBA3/dHWmuHAhgtM4DW2mWJRGKi1nqbtfbWXQmgbPaQT8Pyydha23M3AniVMaYXBbBzX0LenQRIgARIAJC8wosWAc88k7lJRNgccUSQUk7WDLJ0DAEKYAEIYLPZvYsA/AnABACPWGvnJhKJK5pdswzA340x07TW8wHEjDFNy3CDK33fv8NaO8UYM5gC2DEvG+9CAiRAAiTQMoGPPw7yCq+UrYhppXdvYMoU4PDDeWRMyxRbvoICGFIBbNqpOwnAU8aYdamhjkaj5Z7nfaCUmmqt/RGAjcaY09NCQTaBbFRK3RaPx29q+tT7I2NMv2aSuAiAzAweTwFs+UXiFSRAAiRAAh1HQI6JWbIEePTRnfMKl5YGn4UlnzBL+wlQAEMqgCUlJQdEIpEPlVLXxuPxW1MhoLW+EoCc9VeulDpf1vF5njeysrLyC7lGay3SuNBae1QikXhLay27fBd7nje5srJSdhAjGo3u63lejVJqdvq9dxVmPAew/S8fa5IACZAACeyZgBwVM28e8L5sXUwrsjFENoiceCIQiZBiewhQAEMqgE0yd7fs1LXW3qiUes9aKxs5ZgH4szHmsqZZwr8D+BjAL+V4GAAii6+nzwpqrV+U9YNKqVnW2vUAfq6U6l9fXz+aB0G357ViHRIgARIggY4k8N57gQhu3Jh516FDgyNjRo7syKcVx70ogCEWwAkTJnSpra2V7B0XAzjQWrtaKXWXMeY3qfCNRqMHNaWCO0o2flhrH+3Zs+c1y5cv35y6RjKGRCKR3yqlzpJzAgG8GolErqyoqEi09BpwBrAlQvw5CZAACZBARxCQA6Qfewx4+eXMvMJKARMmAGedBfTY47kVHdGKwrkHBTDEApgPYUgBzIdRYBtIgARIoHgI1NQEm0RqazP73K8fMH06cMghxcPCpacUQAqgS/zIesFDPc97d8GCBSgvL3e6FyuTAAmQAAmQQGsINDQAzz0HLFwIyJ/Ti6SWmzoVECFk2T0BCiAF0On9oAA64WNlEiABEiABBwJycLQcIC0HSacX+RScyissn4hZdiZAAaQAOr0XFEAnfKxMAiRAAiTgSEDyCr/5JvDQQ8Dmb1e3BzcdNSrYJDJkiONDCrA6BZAC6BTWFEAnfKxMAiRAAiTQQQQ2bQok8K23Mm8ox8Sc/P+3dydQclT1GsC/f016ZgJGBIMYBMzSdWvCmLDEKJshIoogsm8KihxXjgqKRhRkE/E94KmoCCo+8ckSIBhAIRDZ8kACyAsgccjUrZ4kIpkIskkSSdLpuu/86e7QM2aS6a7pnunu757DOTDUreVXt3u+uVX33oOAQw7husKlMgyADICJPnoMgIn4WJkCFKAABYZY4Omn84+FX9i4REL+ADpx9Ekn6UpXQ3zAOt0dAyADYKKmywCYiI+VKUABClCgCgLr1+cHiOhAEV1VpLTss09+XWFdWq6ZCwMgA2Ci9s8AmIiPlSlAAQpQoIoCf/sbcO21wPLlfQ8yZkx+XeHp05t3XWEGQAbARB89BsBEfKxMAQpQgAJVFtAewAUL8pNIr1vX92C77ppfV3isrpPVZIUBkAEwUZNnAEzEx8oUoAAFKFAjgZdeAmbPBp56qu8BdV3hww4DDjwQ8HQtrCYpDIAMgImaOgNgIj5WpgAFKECBGgrolDG6rrAGwVdf7XvgnXfOTxnzznfW8ISG8VAMgAyAiZofA2AiPlamAAUoQIFhEPjXv4BbbgEeeKDvwXXS6AMOAA4/HGhrG4YTq+EhGQAZABM1NwbARHysTAEKUIACwyiQyeQHiaxc2fckttsuv67wlCnDeHJVPjQDIANgoibGAJiIj5UpQAEKUGCYBXQt4fnzgXnz/n1d4Xe/Gzj+eODNbx7mk6zC4RkAGQATNSsGwER8rEwBClCAAiNE4LnngGuuAaKo7wmNHg0cfTSw336NNWUMAyADYKKPHgNgIj5WpgAFKECBESSgg0QWLgRuvhnQ9wRLSzqdX0lEf/788/mVRSZNGkEnX+apMAAyAJbZZPp/INJ7ep63aO7cuejs7Ey0L1amAAUoQAEKjAQBHSF8003AY4+9cTZr1wLd3cC22wI6YlinjNllF+DUUwF9Z7DeCgMgA2CiNssewER8rEwBClCAAiNY4C9/Aa6/HnjxReDxx4HVq/Mnu9VWgO8D22yTD4Fnnz2CL2KAU2MAZABM1GoZABPxsTIFKEABCoxwAV095KqrgCuuAPQRcWkZNw6YMAE466z6exzMAMgAmOijxwCYiI+VKUABClCgDgQefhi4/HLA2jd6AYun3doKnH46cMop9TVIhAGQATDRR48BMBEfK1OAAhSgQB0I9PQAl1yS7wHs7QWWLwdyuTdOfPfdgX32yc8d+Na31sEFAWAAZABM1FIZABPxsTIFKEABCtSJwEUXAc88kz9ZHRCik0jr+sJjxgB77JH/ufYG6ioiuprISF9XmAGQATDRR48BMBEfK1OAAhSgQJ0IaNi78so3QqD2Bo4alX/sq5NJlxZdT1jXFdbRwiO1MAAyACZqmwyAifhYmQIUoAAF6kxAHweXzgO4Zg0wdy7wxz/2vRDtAfzAB4CPfnRkrivMAMgAmOijxwCYiI+VKUABClCgQQR0gIiuK6wripQWfSdQ3w1817tG1oUyADIAJmqRDICJ+FiZAhSgAAUaSCCbBe66C7jzzr6DRPQSp08Hjjtu5KwrzADIAJjoo8cAmIiPlSlAAQpQoAEFVq7M9wbqQJHSohNIH3NMfsSwvjs4nIUBkAEwUftjAEzEx8oUoAAFKNCgAjpIRN8L/O1vgdde63uRxuTXFd5hh+G7eAZABsBErY8BMBEfK1OAAhSgQIML/POfwI03AosW9b1QHUH8kY8AH/pQfjRxrQsDIANgojbHAJiIj5UpQAEKUKBJBJ56Kr+u8Msv971gXU5Op4yZNKm2EAyADICJWhwDYCI+VqYABShAgSYS0HWFb7sNuO++f19XeMYM4MgjAX1PsBaFAZABMFE7YwBMxMfKFKAABSjQhAK6lNw11wDPPtv34rfZBjjhhPzKItUeJMIAyACY6KPHAJiIj5UpQAEKUKBJBXQt4XvvBX73O0CnjyktU6fm5w7cdtvq4TAAMgAmal0MgIn4WJkCFKAABZpc4IUXgOuuA55+ui9EWxtwxBHAzJnVWVeYAZABMNFHjwEwER8rU4ACFKAABaBTxvzpT8CcOcCqVX1Bxo/PDxLZaaehhWIAZABM1KIYABPxsTIFKEABClBgo4CuK3zzzcDChX1RdF3hD34QOPRQoLV1aMAYABkAE7UkBsBEfKxMAQpQgAIU+DeB7u78Y+Hnn+/7v8aOzU8gPXlycjQGQAbARK2IATARHytTgAIUoAAFNimgA0PmzcuvLRzHfTfZa6/8knJjxlSOxwDIAFh56wHAAJiIj5UpQAEKUIACmxXo7c1PGbN0ad/Ntt4aOPZYQMNgJVPGMAAyACb66DEAJuJjZQpQgAIUoMAWBXSQyAMPAHPnAmvX9t28owM48UTgbW/b4m76bMAAyABYXovptzUDYCI+VqYABShAAQoMWuCVV4AbbgCeeKJvlVTqjXWFW1oGtzsGQAbAwbWUAbZiAEzEx8oUoAAFKECBsgX+/Of8usIaCEvLjjvmp4yZOHHLu2QAZADccivZzBYMgIn4WJkCFKAABShQkYA+Cr71VmDBgr7rCuv7gPvvn19XuL194F0zADIAVtTwipUYABPxsTIFKEABClAgkcCyZflBIitW9N3NW94CfOxjwO67b3r3DIAMgIkaHgNgIj5WpgAFKEABCiQW0HWF774buP32f19XeI89gBNOADQQlhYGQAbARA2PATARHytTgAIUoAAFhkxAJ47WCaR1IunSoo+C9ZHwjBlvrCvMAMgAmKjhMQAm4mNlClCAAhSgwJAK6JQxjz4K3HQToEvLlRYdHKIribzjHcD8+V047bSjEMfxtEwm8/iQnkSd7Ezq5DxH5GkyAI7I28KTogAFKECBJhdYvRqYMwd45JG+EOvXA/pPLteFJ55gAGzyZlL55TMAVm7HmhSgAAUoQIFqCyxZAlx7LfDCC/kjPf44oOGwtbULa9cyAFbbv2H3zwDYsLeWF0YBClCAAg0ioD1+d9yR7xEsTiLtXBecYwBskFtc+8tgAKy9OY9IAQpQgAIUqETgttuAiy4CVq3SuQMZAPkOYCWtqFCHATABHqtSgAIUoAAFaijQ0wNcfDGwciWwfHkX1q9nD2AN+Yf0UOL7/udF5FQAuvDL8wBuE5HzwjBcpUcyxrwPwEUAdhORV+I4vqW1tfXbXV1dq4tnMnXq1K3Xrl17CYCjALwJwAOe5321u7vbbulsGQC3JMT/TwEKUIACFBg5AtoD+MyQsyj9AAAThUlEQVQzwKuvduHxxxkAR86dKeNMjDHfBHChiFwM4L44jo2IfFdEFoVheFA6ne70PO//ROSBXC73fRF5h4hc6px7KIqiw4uHCoLgd8659wCYBUCD4/kAxm7YsKFz6dKl/9zcKTEAlnHDuCkFKEABClBgmAVeegm48kpA5wFctIgBcJhvR0WHF2PMiwCutdaeVhLmjnPOzY7jeLrneceIyOlr1qwZ++yzz75W6BH8HIArc7nc+J6enr+l0+m9Pc97KI7jD2cymT8UthkLYBmA71lr/4MBsKL7w0oUoAAFKECBESvAeQDrdCLoiRMnbtPS0nKBc+7GTCbzcEkAnOqce1JEjnfO7QXg09bajQvABEFwjNZxzk2LouhJY4z29p1hrd0GgCvuxxhzO4BtrLX6CHnAwh7AEfvZ5olRgAIUoAAFBhTgSiB1GgAHuqPGmPMAnBvH8RQAor17zrmrW1tbL1y3bt04z/NmA8hZa/fUwGeMuQFAh7W2z3LRvu9fJiIft9a+jQGQ3yAUoAAFKECBxhJgAGygAOj7/ntF5H4A8621R2pTLQwS+SkAr9B0lwN4n7V2hf63MeZOAFtba2eUNu0gCC50zs2y1rYzADbWh55XQwEKUIACFGAAbJAAGATBvs653zvnVrS3t89YvHjxy4VBIt8TkZ+IyC3OubHOuXMAtMdxvF8mk/lHEATznXOjBwiAX7PWbsUAyC8KClCAAhSgQGMJMAA2QAA0xhwP4GoA3dls9uBly5Y9B6DFGKMjeH9rrT252GzT6fT2nuf1iMjPwjD8hjHmJu0otNbu0a8H8EfOueOsteM21+Q7Ojr2ieP4oUsvvRSTJk1qrE8Hr4YCFKAABSjQoAI9PT2YNWsWPM/bt7u7e2GDXuZmL6uuJ4L2ff/rxWlgROSo4vx/nZ2db89ms73OuVOjKPp5qYAx5jGdM9Ba+5HCo94vlw4UKTwavgOA9gwesDk93/c/LiLXNWPD4TVTgAIUoAAF6l3AOXdiFEXX1/t1VHL+dRsAC+/3XSkis8eNG3fyggULNpQAeMaY551zd0VRdFLx58YYneKlB8D/6PQxhYmiF3ied0h3d/d83a7QS7hU5xQMw1DnGBywdHR0vDWXyx3U0tKyfMOGDWsruQGsQwEKUIACFKBAbQVGjRrVrlPCtbS0zO/u7tZp5Zqu1GUAnDBhwg6pVErn6lspIp+M47g0/EFENOTpo+Efi8gvAMxxzm0PQCeP3sXzvGnd3d06IEQHgtwHYKqInOmcewnAeSKybTabnbqliaCbrrXwgilAAQpQgAIUaAiBugyAvu+fIiK/3MwdOMVa+xt9ROt53tecc7sCeEFXBfE876wlS5b8tVi3MKfgD0TkiMJo4T+2tLScsWTJkqgh7jAvggIUoAAFKEABCvQTqMsAyLtIAQpQgAIUoAAFKFC5AANg5XasSQEKUIACFKAABepSgAGwLm8bT5oCFKAABShAAQpULsAAWLkda1KAAhSgAAUoQIG6FGAArPC2pdPpD3me910R6XTO6eTTP7XWfr/C3bFa5QJSmBLoVAATdY5HALeJyHnFeSEr3zVrJhEwxswFsIe1dkKS/bBu5QLpdHovz/O+B+A9AFYDuCuO41m6ElLle2XNSgSMMZ8FcDqA8QCeAXC5tfaKSvbFOpUJpNPpnTzPW+ycOzyKogeKe0mn05M8z7sMwH4ANjjn5nied2aj/w5hAKygHRW+VP8XwOw4jq8Xkf1E5GwR+VYYhpdUsEtWqVCgsOTfhcUJweM4NjqHo4gsCsPwoAp3y2oJBYIgOMk59xsAy621GsxZaizQ0dExLY7jBwH8QcMGgB0B/CeApdZa/UXHUiMBY8xnAPzCOfcjz/N+55x7n045BuDr1tof1ug0mvowkyZN2lnn/AMQOOfeXwyAOhPIqFGjFgPQxSO+63neDs65SwE8Yq09pJHRGAAruLuFNYTfbK3du1jdGKNfrF+I43iHTCazroLdskr5AmKM0Qk8r9WJvYvVgyA4zjmn4Xx6JpN5vPzdskYSgcmTJ4/L5XJ/EZHVzrkcA2ASzcrrGmPuBdBqrdWw8XoxxhwhIhpCZpROh1X5UVhzMALGmIe0Z8lau3/JvdDVJ95rreU6ooNBrHwbfUp0sohoqNOyXWkANMZ8C8BZbW1tuyxevPhl3SAIgg875+bFcbxvJpN5uPJDj+yaDIBl3p/Ozs7WbDb7qoicW9rbFwTBu51zfwLwQWutfvGyVFmgMIfjBc65G0s/pEEQTHXOPSkix4dhOKfKp8Hd9xMwxuhSiroWt/4htD8DYO2bSGdn53bZbFZXQ/pEFEWza38GPGKpQBAEi5xzvdbaj5YEQO2VPan/UqSUG1oBY8xu2psnIpc753ThhzucczOLPYC+798vIq/16+3T1cReFpEfh2F4ztCe0cjZGwNgmffCGNMB4GkAR1lrby1WHz9+/FtaW1t1JZEv8b2OMlGHeHNjjD5aOTeO4ymZTEbvFUuNBAqPui5MpVKd2WxW34llAKyRfelhOjo6ZsZxfG8cxwfrakkichgA/b6fu2HDhtO4ylFtb4ox5pMAfikip+Ryud+PGjVq7ziO9Y/TX5c+vajtWTXH0fR3c1tb21ZhGPam0+n9Pc+7r18P4N+dczdEUfSVUhFjzJMArLX2uEaVYgAs8876vv9eEXlYRA4Mw1D/miiWFmNMVruSrbX6OJhlGAQK9+d+APOttUcOwyk07SEnT578zlwu9xSAk/WPI2PM1QyAw9McgiA4VnvG9b0mAPN0zXTnnF94B/Av1toZw3NmzXnUadOmpVavXv1z59ynSgTuKvQI5ppTpfZXPUAAfE3f+Yui6Nx+AfBB59yaKIo+XPszrc0RGQDLdE6n03t7nvfQQAFQRL7JgSBlog7R5kEQ7Ouc+71zbkV7e/uM4vscQ7R77mYLAsaYe0TkuTAMT9RNGQCHr8kEQXCic+4aHRFf+oeQMUbXSNd3zw6y1t4zfGfYXEc2xtwJYB8AFwB4DMCUwr//kX+o1q4tDBAA1znnLt5UAASwqpEHgjAAltn20un0rp7n6QvuR4ZheFux+pQpU7Zdt27di865U6Mo+nmZu+XmCQUKv9i0x6k7m80evGzZMp2ah6VGAsaYLwE4J5fLTenp6Xlx5syZ0tvbq+t1z7DWas9TDMDV6HSa/jBBEBzmnNNXVD5nrd24bnphxOPLzrkzoygqvhTf9F7VBCh2GjjnPh1FkX5HvV6MMQfr+2gADrXWzqvmOXDfeYEBAqC+K3tdFEVfLXUyxvxZX/ey1n6sUf0YAMu8s+l0us3zPJ1P65ul8/4ZY6YDeLT05dIyd83NKxTwff/rxWlgROSoRp+7qUKmqlYrvEitjxU39Z2iwe8Ca+13qnoS3PlGAd/3J4tIF4AvW2t/WhI6xhbmyjzNWquDEFiqLGCMOQHAdSKyaxiGYfFwU6dO3Xrt2rWrGMarfANKdj9AANSpkl4pHaADQAeBvALgvxr5e4sBsIK2V5heod1au2+xuu/7F4vIZ9evX7/j8uXL11awW1apQKAwCfSV+o7TuHHjTl6wYMGGCnbDKgkFJk+e7Gez2TGlu2lpaTnfObdnHMcfbWtrW9nV1fX3hIdh9TIEjDFLAawonQYmCIJPO+d+AWBPa632cLBUWcD3/d1FRKej6tMb29HRcVAcx3c6546JokgnTWepssCmAmAQBOc452Z5njehu7tbpxUr9s7eXpgG5pEqn9aw7Z4BsAL6IAje75y7W0fUicivAOi7ZzqX0JlcDaQC0AqrTJgwYYdUKrUMwEod6RjHcZ/wJyI91toXKtw9qyUU4DuACQETVvd9/2gR0YEgNwO4yjnXqZOkA7jTWqvvArLUSMD3/TkicpD653K5Rz3Pe1dhIuhlhflk9RUJlioLFALg/aVP6owx2iuus0WsKLyXqf99MYCF/XoFq3x2td89A2CF5kEQHO6c0xd6A204OsdQGIa6lAxLjQR83z9FRDa+37SJw55irdXVKFiGQaAQAPUdQE50Owz+ekhjjK5koKMbpwLQaaquHTNmzDmLFi3SGQtYaiQwc+bMUb29vd8G8InCiiy6FNzc1atXX9jb2/uvGp1G0x9mUz2AilJ4t19/f+tAHX0sf8vo0aNnPfXUU2saGY0BsJHvLq+NAhSgAAUoQAEKbEKAAZDNggIUoAAFKEABCjSZAANgk91wXi4FKEABClCAAhRgAGQboAAFKEABClCAAk0mwADYZDecl0sBClCAAhSgAAUYANkGKEABClCAAhSgQJMJMAA22Q3n5VKAAhSgAAUoQAEGQLYBClCAAhSgAAUo0GQCDIBNdsN5uRSoB4HCJNInD+JcF1hrDzDG/Fon2U2lUqO7urrWD6Je1TcJgiBwzj3c0tLSuWTJkpWDOWAQBKc650601u43mO25DQUoQIFKBRgAK5VjPQpQoGoCvu+/F8DGFUQ8z5vsnDtLRG6J43jjuqki8py19t7i9lEUXV+1kypzx8aY+wA8Yq09a7BVdcWIFStWPC0il1prrxpsPW5HAQpQoFwBBsByxbg9BShQc4HiGp4AzrfWfqfmJ1DmAYMgONY5d3Uqldqlq6tLl2AbdPF9/1Mi8oNC3dWDrsgNKUABCpQhwABYBhY3pQAFhkeg3gKgMeZh59yzURQdW67Y+PHj21tbW59zzn07iqKflFuf21OAAhQYjAAD4GCUuA0FKDCsAlsKgIV3AD+ZSqXa9R1AY8z5AM7O5XKTW1pafgRgBoDXAPzGWntmEARHx3F8jud5E51zoYh8PQxDfWS7sQRBcLpz7rOFR9GvALg9l8ud3dPT8/zmMIwx0wE8CuDj1tobitsGQTDGOfdDAAcCeDuAvwP4fSqVOq9/L6ExZrZzbloURWZY4XlwClCgYQUYABv21vLCKNA4AoMIgFcD0AD4+iAQY8x5AM7RkCUif9DBGCJyjHPugwDuArAngMtE5DXn3LcAtKVSqUnFIGaM0ffvTgFwLYCFAMYD+BKA59va2qYvXrz45YF0jTEXaPiM43i7TCbzanE7Y8ydAPYTkcviOF4qIu8C8GURWRiG4czS/fm+/3kRuULffezu7raNcyd5JRSgwEgRYAAcKXeC50EBCgwoUGEA1BD4U2vtl3XHEydO3GbUqFH/AODFcTw9k8k8oT83xnwGwM+dc4dFUXSH7/szRGSBc+4rURT9uHhSvu/vLiKPaYALw3DWZgKg9iSOt9ZOLAl/YzU8ArjcWntayc81LB4sIh8Iw3BV8efpdHpvz/MeAvB5DgbhB4MCFKiGAANgNVS5TwpQYEgFKgyA54rIgWEY3l8SuP4GIFsazoIgOMA5dw+Az1lrf2mM0dD3RRFJi8jGHrw4jvX78m4Ao621HQNdYBAEf3XORdZafdT7euns7GzNZrMaAHWKmlkbNmy4denSpf8caB/pdHp7z/OeA3CxtVZ7KFkoQAEKDKkAA+CQcnJnFKBANQQqDYBxHE/JZDJPlwTAZfpY2Fq7d0lv2/6e52lI/IK19hfGmDu0V26A63AA1llrt9pMAFzjnLvLWnt06TZBEOgj6P8G8CYAOZ0iBsCtbW1tV/d/pJxOp9s8z9N3Fn9lrdUeShYKUIACQyrAADiknNwZBShQDYFKA2D/d+iMMctEZGUYhvsMFAB937/L87z3ATgUwCa/I/sPGCm9ZmOMPsq921p7VH8LHQgC4DAAhzjntIdwewC92Wx22rJly7TH7/VSGAn8LwBXWWs/Xw1T7pMCFGhuAQbA5r7/vHoK1IVALQNgEAQ/09G/2Wx2x9JQplC+7x/qnHsxk8k8PBCcMSbSUGet3b+4zU477TS6vb19t1Qq9dfSVUGMMV8DcAmAb1hrv1/c3hjzDgD6uPpCa62+y8hCAQpQYEgFGACHlJM7owAFqiFQywBojNHHv/oY+AprrY78fb2k0+m9CgMz5lhrT9hMANT3CSdZaycUt5k0aVK6paVFR/NeZq09o2Sfrz9+FpEzwjC8rOTnrw8CEZHPhGH4q2qYcp8UoEBzCzAANvf959VToC4EahkAFSQIgpudc0cCmCci85xzOm+fhsE4l8vt3dPTk9lMANRBG9/t34NojLkRgL4XqOsW6/t/OjL4iwBSuVxuaun8gsYYDYmXxnH8zkwm82xd3CSeJAUoUFcCDIB1dbt4shRoToFCALxPRM4Pw/DC/grGGJ0H8BOpVGqrknkAz93UO4CFx7P79uuF06lbTtVBIIWfe77vf01ETi5MBK3LuT0oIueFYRhu7i4EQTDVOfekiJwQhuFNxW0L7/VpODxeRHZ2zq0BcE8ulzu3f6A0xtyiM9dYa3drzjvOq6YABaotwABYbWHunwIUaDoBY4yuBLLSWntEuRc/ZcqUbdetW7cSwBnW2ivKrc/tKUABCgxGgAFwMErchgIUoEAZAr7vHyUis3O53M5bWjpuE72Z+lj4vPXr1++yfPnytWUclptSgAIUGLQAA+CgqbghBShAgUELiDHmQV0T2FqrI30HVaZNm5ZatWqVDha5lL1/gyLjRhSgQIUCDIAVwrEaBShAgc0JGGN0tZCFuuZvGIa9g9EyxuhAk49Zaze+oziYetyGAhSgQLkCDIDlinF7ClCAAhSgAAUoUOcCDIB1fgN5+hSgAAUoQAEKUKBcgf8HUs2c3oDyzlgAAAAASUVORK5CYII=\">"
      ],
      "text/plain": [
       "<IPython.core.display.HTML object>"
      ]
     },
     "metadata": {},
     "output_type": "display_data"
    }
   ],
   "source": [
    "plot_position(system.results)\n",
    "#savefig('mit_cent-fig01.pdf')"
   ]
  },
  {
   "cell_type": "markdown",
   "metadata": {},
   "source": [
    "Ejercicio: agregue una instrucción de impresión a slope_func para imprimir el valor de t cada vez que se llame. ¿Qué podemos inferir sobre cómo funciona odeint, en función de los resultados?"
   ]
  },
  {
   "cell_type": "code",
   "execution_count": 30,
   "metadata": {},
   "outputs": [
    {
     "name": "stdout",
     "output_type": "stream",
     "text": [
      "8.817885349720552 second\n"
     ]
    }
   ],
   "source": [
    "\n",
    "def slope_func(state, t, system):\n",
    "    \"\"\"Calcular derivados del estado.\n",
    "    \n",
    "     estado: posición, velocidad\n",
    "     t: tiempo\n",
    "     sistema: objeto del sistema que contiene `g`\n",
    "    \n",
    "     devoluciones: derivadas de y & v\n",
    "    \"\"\"\n",
    "    y, v = state\n",
    "    unpack(system)    \n",
    "\n",
    "    dydt = v\n",
    "    dvdt = -g\n",
    "    \n",
    "    return dydt, dvdt\n",
    "print (t)"
   ]
  },
  {
   "cell_type": "markdown",
   "metadata": {},
   "source": [
    "En el pavimento:\n",
    "Aquí está el código nuevamente para configurar el objeto del Sistema."
   ]
  },
  {
   "cell_type": "code",
   "execution_count": 31,
   "metadata": {
    "collapsed": true
   },
   "outputs": [],
   "source": [
    "def make_system(duration, v_init=0):\n",
    "    \"\"\"Haz un objeto de sistema.\n",
    "    \n",
    "     duración: tiempo de simulación en segundos\n",
    "     v_init: velocidad inicial, sin dimensiones\n",
    "    \n",
    "     devoluciones: objeto del sistema\n",
    "    \"\"\"\n",
    "    init = State(y=381 * m, v=v_init * m / s)\n",
    "\n",
    "    g = 9.8 * m/s**2\n",
    "    #ts = linspace(0, duration, 11)\n",
    "    ts = linspace(0, 10, 11)\n",
    "    return System(init=init, g=g, ts=ts)"
   ]
  },
  {
   "cell_type": "markdown",
   "metadata": {},
   "source": [
    "Corremos la simulación"
   ]
  },
  {
   "cell_type": "code",
   "execution_count": 32,
   "metadata": {},
   "outputs": [
    {
     "data": {
      "text/html": [
       "<div>\n",
       "<table border=\"1\" class=\"dataframe\">\n",
       "  <thead>\n",
       "    <tr style=\"text-align: right;\">\n",
       "      <th></th>\n",
       "      <th>v</th>\n",
       "      <th>y</th>\n",
       "    </tr>\n",
       "  </thead>\n",
       "  <tbody>\n",
       "    <tr>\n",
       "      <th>0.0</th>\n",
       "      <td>0.0</td>\n",
       "      <td>381.0</td>\n",
       "    </tr>\n",
       "    <tr>\n",
       "      <th>1.0</th>\n",
       "      <td>376.1</td>\n",
       "      <td>371.2</td>\n",
       "    </tr>\n",
       "    <tr>\n",
       "      <th>2.0</th>\n",
       "      <td>742.4</td>\n",
       "      <td>361.4</td>\n",
       "    </tr>\n",
       "    <tr>\n",
       "      <th>3.0</th>\n",
       "      <td>1098.9</td>\n",
       "      <td>351.6</td>\n",
       "    </tr>\n",
       "    <tr>\n",
       "      <th>4.0</th>\n",
       "      <td>1445.6</td>\n",
       "      <td>341.8</td>\n",
       "    </tr>\n",
       "    <tr>\n",
       "      <th>5.0</th>\n",
       "      <td>1782.5</td>\n",
       "      <td>332.0</td>\n",
       "    </tr>\n",
       "    <tr>\n",
       "      <th>6.0</th>\n",
       "      <td>2109.6</td>\n",
       "      <td>322.2</td>\n",
       "    </tr>\n",
       "    <tr>\n",
       "      <th>7.0</th>\n",
       "      <td>2426.9</td>\n",
       "      <td>312.4</td>\n",
       "    </tr>\n",
       "    <tr>\n",
       "      <th>8.0</th>\n",
       "      <td>2734.4</td>\n",
       "      <td>302.6</td>\n",
       "    </tr>\n",
       "    <tr>\n",
       "      <th>9.0</th>\n",
       "      <td>3032.1</td>\n",
       "      <td>292.8</td>\n",
       "    </tr>\n",
       "    <tr>\n",
       "      <th>10.0</th>\n",
       "      <td>3320.0</td>\n",
       "      <td>283.0</td>\n",
       "    </tr>\n",
       "  </tbody>\n",
       "</table>\n",
       "</div>"
      ],
      "text/plain": [
       "           v      y\n",
       "0.0      0.0  381.0\n",
       "1.0    376.1  371.2\n",
       "2.0    742.4  361.4\n",
       "3.0   1098.9  351.6\n",
       "4.0   1445.6  341.8\n",
       "5.0   1782.5  332.0\n",
       "6.0   2109.6  322.2\n",
       "7.0   2426.9  312.4\n",
       "8.0   2734.4  302.6\n",
       "9.0   3032.1  292.8\n",
       "10.0  3320.0  283.0"
      ]
     },
     "execution_count": 32,
     "metadata": {},
     "output_type": "execute_result"
    }
   ],
   "source": [
    "\n",
    "system = make_system(10)\n",
    "run_odeint(system, slope_func)\n",
    "system.results"
   ]
  },
  {
   "cell_type": "markdown",
   "metadata": {},
   "source": [
    "Para saber cuándo el centavo golpea la acera, usamos interp_inverse, que devuelve una función que se asigna de altura en altura"
   ]
  },
  {
   "cell_type": "code",
   "execution_count": 33,
   "metadata": {},
   "outputs": [
    {
     "ename": "AttributeError",
     "evalue": "'Float64Index' object has no attribute 'isnull'",
     "output_type": "error",
     "traceback": [
      "\u001b[1;31m---------------------------------------------------------------------------\u001b[0m",
      "\u001b[1;31mAttributeError\u001b[0m                            Traceback (most recent call last)",
      "\u001b[1;32m<ipython-input-33-84d6919381b2>\u001b[0m in \u001b[0;36m<module>\u001b[1;34m()\u001b[0m\n\u001b[0;32m      1\u001b[0m \u001b[0my\u001b[0m \u001b[1;33m=\u001b[0m \u001b[0msystem\u001b[0m\u001b[1;33m.\u001b[0m\u001b[0mresults\u001b[0m\u001b[1;33m.\u001b[0m\u001b[0my\u001b[0m\u001b[1;33m\u001b[0m\u001b[0m\n\u001b[1;32m----> 2\u001b[1;33m \u001b[0mT\u001b[0m \u001b[1;33m=\u001b[0m \u001b[0minterp_inverse\u001b[0m\u001b[1;33m(\u001b[0m\u001b[0my\u001b[0m\u001b[1;33m,\u001b[0m \u001b[0mkind\u001b[0m\u001b[1;33m=\u001b[0m\u001b[1;34m'cubic'\u001b[0m\u001b[1;33m)\u001b[0m\u001b[1;33m\u001b[0m\u001b[0m\n\u001b[0m",
      "\u001b[1;32m~\\modsim.py\u001b[0m in \u001b[0;36minterp_inverse\u001b[1;34m(series, **options)\u001b[0m\n\u001b[0;32m    407\u001b[0m     \"\"\"\n\u001b[0;32m    408\u001b[0m     \u001b[0minverse\u001b[0m \u001b[1;33m=\u001b[0m \u001b[0mSeries\u001b[0m\u001b[1;33m(\u001b[0m\u001b[0mseries\u001b[0m\u001b[1;33m.\u001b[0m\u001b[0mindex\u001b[0m\u001b[1;33m,\u001b[0m \u001b[0mindex\u001b[0m\u001b[1;33m=\u001b[0m\u001b[0mseries\u001b[0m\u001b[1;33m.\u001b[0m\u001b[0mvalues\u001b[0m\u001b[1;33m)\u001b[0m\u001b[1;33m\u001b[0m\u001b[0m\n\u001b[1;32m--> 409\u001b[1;33m     \u001b[0mT\u001b[0m \u001b[1;33m=\u001b[0m \u001b[0minterpolate\u001b[0m\u001b[1;33m(\u001b[0m\u001b[0minverse\u001b[0m\u001b[1;33m,\u001b[0m \u001b[1;33m**\u001b[0m\u001b[0moptions\u001b[0m\u001b[1;33m)\u001b[0m\u001b[1;33m\u001b[0m\u001b[0m\n\u001b[0m\u001b[0;32m    410\u001b[0m     \u001b[1;32mreturn\u001b[0m \u001b[0mT\u001b[0m\u001b[1;33m\u001b[0m\u001b[0m\n\u001b[0;32m    411\u001b[0m \u001b[1;33m\u001b[0m\u001b[0m\n",
      "\u001b[1;32m~\\modsim.py\u001b[0m in \u001b[0;36minterpolate\u001b[1;34m(series, **options)\u001b[0m\n\u001b[0;32m    382\u001b[0m     \u001b[1;31m# TODO: add error checking for nonmonotonicity\u001b[0m\u001b[1;33m\u001b[0m\u001b[1;33m\u001b[0m\u001b[0m\n\u001b[0;32m    383\u001b[0m \u001b[1;33m\u001b[0m\u001b[0m\n\u001b[1;32m--> 384\u001b[1;33m     \u001b[1;32mif\u001b[0m \u001b[0msum\u001b[0m\u001b[1;33m(\u001b[0m\u001b[0mseries\u001b[0m\u001b[1;33m.\u001b[0m\u001b[0mindex\u001b[0m\u001b[1;33m.\u001b[0m\u001b[0misnull\u001b[0m\u001b[1;33m(\u001b[0m\u001b[1;33m)\u001b[0m\u001b[1;33m)\u001b[0m\u001b[1;33m:\u001b[0m\u001b[1;33m\u001b[0m\u001b[0m\n\u001b[0m\u001b[0;32m    385\u001b[0m         msg = \"\"\"The Series you passed to interpolate contains\n\u001b[0;32m    386\u001b[0m                  \u001b[0mNaN\u001b[0m \u001b[0mvalues\u001b[0m \u001b[1;32min\u001b[0m \u001b[0mthe\u001b[0m \u001b[0mindex\u001b[0m\u001b[1;33m,\u001b[0m \u001b[0mwhich\u001b[0m \u001b[0mwould\u001b[0m \u001b[0mresult\u001b[0m \u001b[1;32min\u001b[0m\u001b[1;33m\u001b[0m\u001b[0m\n",
      "\u001b[1;31mAttributeError\u001b[0m: 'Float64Index' object has no attribute 'isnull'"
     ]
    }
   ],
   "source": [
    "y = system.results.y\n",
    "T = interp_inverse(y, kind='cubic')"
   ]
  },
  {
   "cell_type": "markdown",
   "metadata": {},
   "source": [
    "T (0) interpola el tiempo cuando la altura era 0."
   ]
  },
  {
   "cell_type": "code",
   "execution_count": 42,
   "metadata": {},
   "outputs": [
    {
     "ename": "NameError",
     "evalue": "name 'T' is not defined",
     "output_type": "error",
     "traceback": [
      "\u001b[1;31m---------------------------------------------------------------------------\u001b[0m",
      "\u001b[1;31mNameError\u001b[0m                                 Traceback (most recent call last)",
      "\u001b[1;32m<ipython-input-42-05d520033368>\u001b[0m in \u001b[0;36m<module>\u001b[1;34m()\u001b[0m\n\u001b[1;32m----> 1\u001b[1;33m \u001b[0mT_sidewalk\u001b[0m \u001b[1;33m=\u001b[0m \u001b[0mT\u001b[0m\u001b[1;33m(\u001b[0m\u001b[1;36m0\u001b[0m\u001b[1;33m)\u001b[0m\u001b[1;33m\u001b[0m\u001b[0m\n\u001b[0m\u001b[0;32m      2\u001b[0m \u001b[0mT_sidewalk\u001b[0m\u001b[1;33m\u001b[0m\u001b[0m\n",
      "\u001b[1;31mNameError\u001b[0m: name 'T' is not defined"
     ]
    }
   ],
   "source": [
    "T_sidewalk = T(0)\n",
    "T_sidewalk"
   ]
  },
  {
   "cell_type": "code",
   "execution_count": 1,
   "metadata": {},
   "outputs": [
    {
     "ename": "NameError",
     "evalue": "name 'linrange' is not defined",
     "output_type": "error",
     "traceback": [
      "\u001b[1;31m---------------------------------------------------------------------------\u001b[0m",
      "\u001b[1;31mNameError\u001b[0m                                 Traceback (most recent call last)",
      "\u001b[1;32m<ipython-input-1-4e14aa6a3299>\u001b[0m in \u001b[0;36m<module>\u001b[1;34m()\u001b[0m\n\u001b[0;32m      2\u001b[0m \u001b[1;33m\u001b[0m\u001b[0m\n\u001b[0;32m      3\u001b[0m \u001b[0mduration\u001b[0m \u001b[1;33m=\u001b[0m \u001b[1;36m10\u001b[0m\u001b[1;33m\u001b[0m\u001b[0m\n\u001b[1;32m----> 4\u001b[1;33m \u001b[0mvs\u001b[0m \u001b[1;33m=\u001b[0m \u001b[0mlinrange\u001b[0m\u001b[1;33m(\u001b[0m\u001b[1;36m0\u001b[0m\u001b[1;33m,\u001b[0m \u001b[1;36m25\u001b[0m\u001b[1;33m,\u001b[0m \u001b[1;36m1\u001b[0m\u001b[1;33m)\u001b[0m\u001b[1;33m\u001b[0m\u001b[0m\n\u001b[0m\u001b[0;32m      5\u001b[0m \u001b[1;33m\u001b[0m\u001b[0m\n\u001b[0;32m      6\u001b[0m \u001b[1;32mfor\u001b[0m \u001b[0mv_init\u001b[0m \u001b[1;32min\u001b[0m \u001b[0mvs\u001b[0m\u001b[1;33m:\u001b[0m\u001b[1;33m\u001b[0m\u001b[0m\n",
      "\u001b[1;31mNameError\u001b[0m: name 'linrange' is not defined"
     ]
    }
   ],
   "source": [
    "# Solution\n",
    "\n",
    "duration = 10\n",
    "vs = linrange(0, 25, 1)\n",
    "\n",
    "for v_init in vs:\n",
    "    system = make_system(20, v_init)\n",
    "    run_odeint(system, slope_func)\n",
    "    y = system.results.y\n",
    "    inverse = Series(y.index, index=y.values)\n",
    "    T = interpolate(inverse, kind='cubic')\n",
    "    T_sidewalk = T(0)\n",
    "    plot(v_init, T_sidewalk, 'b-')"
   ]
  },
  {
   "cell_type": "markdown",
   "metadata": {},
   "source": [
    "# SOLUCIÓN:\n",
    "\n",
    "Con resistencia del aire\n",
    "\n",
    "Ecuación de arrastre o fuerza de rozamiento\n",
    "\n",
    "Primero crearemos un objeto Condition para contener las cantidades que necesitaremos.\n",
    "\n"
   ]
  },
  {
   "cell_type": "code",
   "execution_count": 30,
   "metadata": {
    "collapsed": true
   },
   "outputs": [],
   "source": [
    "condition = Condition(height = 381 * m,\n",
    "                      v_init = 0 * m / s,\n",
    "                      g = 9.8 * m/s**2,\n",
    "                      mass = 2.5e-3 * kg,\n",
    "                      diameter = 19e-3 * m,\n",
    "                      rho = 1.2 * kg/m**3,\n",
    "                      v_term = 18 * m / s,\n",
    "                      duration = 30 * s)"
   ]
  },
  {
   "cell_type": "markdown",
   "metadata": {},
   "source": [
    "Ahora aquí hay una versión de make_system que toma un objeto Condition como parámetro.\n",
    "\n",
    "make_system usa el valor dado de v_term para calcular el coeficiente de arrastre C_d."
   ]
  },
  {
   "cell_type": "code",
   "execution_count": 33,
   "metadata": {
    "collapsed": true
   },
   "outputs": [],
   "source": [
    "def make_system(condition):\n",
    "    \"\"\"Hace un objeto como sistema para las condiciones dadas.\n",
    "    \n",
    "     condición: Condición con altura, g, masa, diámetro,\n",
    "                rho=densidad, v_term y duración\n",
    "    \n",
    "     devuelve: Sistema con init, g, masa, rho, C_d, área y ts\n",
    "    \"\"\"\n",
    "    unpack(condition)\n",
    "    \n",
    "    init = State(y=height, v=v_init)\n",
    "    area = np.pi * (diameter/2)**2\n",
    "    C_d = 2 * mass * g / (rho * area * v_term**2)\n",
    "    #duration = 30 * s\n",
    "    #ts = linspace(0, duration, 101)\n",
    "    ts = linspace(0, 30, 101)\n",
    "    \n",
    "    return System(init=init, g=g, mass=mass, rho=rho,\n",
    "                  C_d=C_d, area=area, ts=ts)"
   ]
  },
  {
   "cell_type": "markdown",
   "metadata": {},
   "source": [
    "Hagamos un Sistema"
   ]
  },
  {
   "cell_type": "code",
   "execution_count": 34,
   "metadata": {},
   "outputs": [
    {
     "data": {
      "text/html": [
       "<div>\n",
       "<table border=\"1\" class=\"dataframe\">\n",
       "  <thead>\n",
       "    <tr style=\"text-align: right;\">\n",
       "      <th></th>\n",
       "      <th>value</th>\n",
       "    </tr>\n",
       "  </thead>\n",
       "  <tbody>\n",
       "    <tr>\n",
       "      <th>ts</th>\n",
       "      <td>[0.0, 0.3, 0.6, 0.9, 1.2, 1.5, 1.8, 2.1, 2.4, ...</td>\n",
       "    </tr>\n",
       "    <tr>\n",
       "      <th>area</th>\n",
       "      <td>0.0002835287369864788 meter ** 2</td>\n",
       "    </tr>\n",
       "    <tr>\n",
       "      <th>rho</th>\n",
       "      <td>1.2 kilogram / meter ** 3</td>\n",
       "    </tr>\n",
       "    <tr>\n",
       "      <th>C_d</th>\n",
       "      <td>0.4445009981135434 dimensionless</td>\n",
       "    </tr>\n",
       "    <tr>\n",
       "      <th>g</th>\n",
       "      <td>9.8 meter / second ** 2</td>\n",
       "    </tr>\n",
       "    <tr>\n",
       "      <th>init</th>\n",
       "      <td>y             381 meter\n",
       "v    0.0 meter / secon...</td>\n",
       "    </tr>\n",
       "    <tr>\n",
       "      <th>mass</th>\n",
       "      <td>0.0025 kilogram</td>\n",
       "    </tr>\n",
       "  </tbody>\n",
       "</table>\n",
       "</div>"
      ],
      "text/plain": [
       "ts      [0.0, 0.3, 0.6, 0.9, 1.2, 1.5, 1.8, 2.1, 2.4, ...\n",
       "area                     0.0002835287369864788 meter ** 2\n",
       "rho                             1.2 kilogram / meter ** 3\n",
       "C_d                      0.4445009981135434 dimensionless\n",
       "g                                 9.8 meter / second ** 2\n",
       "init    y             381 meter\n",
       "v    0.0 meter / secon...\n",
       "mass                                      0.0025 kilogram\n",
       "dtype: object"
      ]
     },
     "execution_count": 34,
     "metadata": {},
     "output_type": "execute_result"
    }
   ],
   "source": [
    "system = make_system(condition)\n",
    "system"
   ]
  },
  {
   "cell_type": "markdown",
   "metadata": {},
   "source": [
    "Aquí está la función de pendiente, incluida la aceleración debido a la gravedad y la resistencia."
   ]
  },
  {
   "cell_type": "code",
   "execution_count": 35,
   "metadata": {
    "collapsed": true
   },
   "outputs": [],
   "source": [
    "def slope_func(state, t, system):\n",
    "    \"\"\"Calcular derivados del estado.\n",
    "    \n",
    "     estado: posición, velocidad\n",
    "     t: tiempo\n",
    "     sistema: objeto del sistema que contiene g, rho,\n",
    "             C_d, área y masa\n",
    "    \n",
    "     devoluciones: derivadas de y & v\n",
    "    \"\"\"\n",
    "    y, v = state\n",
    "    unpack(system)\n",
    "    \n",
    "    f_drag = rho * v**2 * C_d * area / 2\n",
    "    a_drag = f_drag / mass\n",
    "    \n",
    "    dydt = v\n",
    "    dvdt = -g + a_drag\n",
    "    \n",
    "    return dydt, dvdt"
   ]
  },
  {
   "cell_type": "markdown",
   "metadata": {},
   "source": [
    "Se prueba la función de pendiente con las condiciones iniciales"
   ]
  },
  {
   "cell_type": "code",
   "execution_count": 36,
   "metadata": {},
   "outputs": [
    {
     "data": {
      "text/plain": [
       "(<Quantity(0.0, 'meter / second')>, <Quantity(-9.8, 'meter / second ** 2')>)"
      ]
     },
     "execution_count": 36,
     "metadata": {},
     "output_type": "execute_result"
    }
   ],
   "source": [
    "slope_func(system.init, 0, system)"
   ]
  },
  {
   "cell_type": "markdown",
   "metadata": {},
   "source": [
    "Y luego ejecutamos la simulación."
   ]
  },
  {
   "cell_type": "code",
   "execution_count": 37,
   "metadata": {
    "collapsed": true
   },
   "outputs": [],
   "source": [
    "run_odeint(system, slope_func)"
   ]
  },
  {
   "cell_type": "markdown",
   "metadata": {},
   "source": [
    "Primero comprobamos que la simulación haya corrido el tiempo suficiente para que caiga el centavo."
   ]
  },
  {
   "cell_type": "code",
   "execution_count": 40,
   "metadata": {},
   "outputs": [
    {
     "data": {
      "text/plain": [
       "(<Quantity(-136.083704279796, 'meter')>,\n",
       " <Quantity(-18.00000000087864, 'meter / second')>)"
      ]
     },
     "execution_count": 40,
     "metadata": {},
     "output_type": "execute_result"
    }
   ],
   "source": [
    "def final_state(results):\n",
    "    \"\"\"Devuelve la posición y velocidad final, con unidades.\n",
    "    \n",
    "     resultados: TimeFrame con y & v.\n",
    "    \n",
    "     devuelve: y, v en t_end\n",
    "    \"\"\"\n",
    "    t_end = results.index[-1]\n",
    "    y, v = results.loc[t_end]\n",
    "    return y*m, v*m/s\n",
    "    \n",
    "final_state(system.results)"
   ]
  },
  {
   "cell_type": "markdown",
   "metadata": {},
   "source": [
    "Luego se calcula el tiempo de vuelo."
   ]
  },
  {
   "cell_type": "code",
   "execution_count": 42,
   "metadata": {},
   "outputs": [
    {
     "ename": "AttributeError",
     "evalue": "'Float64Index' object has no attribute 'isnull'",
     "output_type": "error",
     "traceback": [
      "\u001b[1;31m---------------------------------------------------------------------------\u001b[0m",
      "\u001b[1;31mAttributeError\u001b[0m                            Traceback (most recent call last)",
      "\u001b[1;32m<ipython-input-42-4d9105ddd2db>\u001b[0m in \u001b[0;36m<module>\u001b[1;34m()\u001b[0m\n\u001b[0;32m      1\u001b[0m \u001b[0my\u001b[0m \u001b[1;33m=\u001b[0m \u001b[0msystem\u001b[0m\u001b[1;33m.\u001b[0m\u001b[0mresults\u001b[0m\u001b[1;33m.\u001b[0m\u001b[0my\u001b[0m\u001b[1;33m\u001b[0m\u001b[0m\n\u001b[0;32m      2\u001b[0m \u001b[0minverse\u001b[0m \u001b[1;33m=\u001b[0m \u001b[0mSeries\u001b[0m\u001b[1;33m(\u001b[0m\u001b[0my\u001b[0m\u001b[1;33m.\u001b[0m\u001b[0mindex\u001b[0m\u001b[1;33m,\u001b[0m \u001b[0mindex\u001b[0m\u001b[1;33m=\u001b[0m\u001b[0my\u001b[0m\u001b[1;33m.\u001b[0m\u001b[0mvalues\u001b[0m\u001b[1;33m)\u001b[0m\u001b[1;33m\u001b[0m\u001b[0m\n\u001b[1;32m----> 3\u001b[1;33m \u001b[0mT\u001b[0m \u001b[1;33m=\u001b[0m \u001b[0minterpolate\u001b[0m\u001b[1;33m(\u001b[0m\u001b[0minverse\u001b[0m\u001b[1;33m,\u001b[0m \u001b[0mkind\u001b[0m\u001b[1;33m=\u001b[0m\u001b[1;34m'cubic'\u001b[0m\u001b[1;33m)\u001b[0m\u001b[1;33m\u001b[0m\u001b[0m\n\u001b[0m\u001b[0;32m      4\u001b[0m \u001b[0mT_sidewalk\u001b[0m \u001b[1;33m=\u001b[0m \u001b[0mT\u001b[0m\u001b[1;33m(\u001b[0m\u001b[1;36m0\u001b[0m\u001b[1;33m)\u001b[0m\u001b[1;33m\u001b[0m\u001b[0m\n\u001b[0;32m      5\u001b[0m \u001b[0mT_sidewalk\u001b[0m\u001b[1;33m\u001b[0m\u001b[0m\n",
      "\u001b[1;32m~\\modsim.py\u001b[0m in \u001b[0;36minterpolate\u001b[1;34m(series, **options)\u001b[0m\n\u001b[0;32m    382\u001b[0m     \u001b[1;31m# TODO: add error checking for nonmonotonicity\u001b[0m\u001b[1;33m\u001b[0m\u001b[1;33m\u001b[0m\u001b[0m\n\u001b[0;32m    383\u001b[0m \u001b[1;33m\u001b[0m\u001b[0m\n\u001b[1;32m--> 384\u001b[1;33m     \u001b[1;32mif\u001b[0m \u001b[0msum\u001b[0m\u001b[1;33m(\u001b[0m\u001b[0mseries\u001b[0m\u001b[1;33m.\u001b[0m\u001b[0mindex\u001b[0m\u001b[1;33m.\u001b[0m\u001b[0misnull\u001b[0m\u001b[1;33m(\u001b[0m\u001b[1;33m)\u001b[0m\u001b[1;33m)\u001b[0m\u001b[1;33m:\u001b[0m\u001b[1;33m\u001b[0m\u001b[0m\n\u001b[0m\u001b[0;32m    385\u001b[0m         msg = \"\"\"The Series you passed to interpolate contains\n\u001b[0;32m    386\u001b[0m                  \u001b[0mNaN\u001b[0m \u001b[0mvalues\u001b[0m \u001b[1;32min\u001b[0m \u001b[0mthe\u001b[0m \u001b[0mindex\u001b[0m\u001b[1;33m,\u001b[0m \u001b[0mwhich\u001b[0m \u001b[0mwould\u001b[0m \u001b[0mresult\u001b[0m \u001b[1;32min\u001b[0m\u001b[1;33m\u001b[0m\u001b[0m\n",
      "\u001b[1;31mAttributeError\u001b[0m: 'Float64Index' object has no attribute 'isnull'"
     ]
    }
   ],
   "source": [
    "y = system.results.y\n",
    "inverse = Series(y.index, index=y.values)\n",
    "T = interpolate(inverse, kind='cubic')\n",
    "T_sidewalk = T(0)\n",
    "T_sidewalk"
   ]
  },
  {
   "cell_type": "markdown",
   "metadata": {},
   "source": [
    "Configurando la duración al tiempo de vuelo calculado, podemos verificar las condiciones finales."
   ]
  },
  {
   "cell_type": "code",
   "execution_count": 43,
   "metadata": {},
   "outputs": [
    {
     "ename": "NameError",
     "evalue": "name 'T_sidewalk' is not defined",
     "output_type": "error",
     "traceback": [
      "\u001b[1;31m---------------------------------------------------------------------------\u001b[0m",
      "\u001b[1;31mNameError\u001b[0m                                 Traceback (most recent call last)",
      "\u001b[1;32m<ipython-input-43-929ece6a2739>\u001b[0m in \u001b[0;36m<module>\u001b[1;34m()\u001b[0m\n\u001b[1;32m----> 1\u001b[1;33m \u001b[0mcondition\u001b[0m\u001b[1;33m.\u001b[0m\u001b[0mset\u001b[0m\u001b[1;33m(\u001b[0m\u001b[0mduration\u001b[0m\u001b[1;33m=\u001b[0m\u001b[0mT_sidewalk\u001b[0m\u001b[1;33m)\u001b[0m\u001b[1;33m\u001b[0m\u001b[0m\n\u001b[0m\u001b[0;32m      2\u001b[0m \u001b[0msystem\u001b[0m \u001b[1;33m=\u001b[0m \u001b[0mmake_system\u001b[0m\u001b[1;33m(\u001b[0m\u001b[0mcondition\u001b[0m\u001b[1;33m)\u001b[0m\u001b[1;33m\u001b[0m\u001b[0m\n\u001b[0;32m      3\u001b[0m \u001b[0mrun_odeint\u001b[0m\u001b[1;33m(\u001b[0m\u001b[0msystem\u001b[0m\u001b[1;33m,\u001b[0m \u001b[0mslope_func\u001b[0m\u001b[1;33m)\u001b[0m\u001b[1;33m\u001b[0m\u001b[0m\n\u001b[0;32m      4\u001b[0m \u001b[0my_final\u001b[0m\u001b[1;33m,\u001b[0m \u001b[0mv_final\u001b[0m \u001b[1;33m=\u001b[0m \u001b[0mfinal_state\u001b[0m\u001b[1;33m(\u001b[0m\u001b[0msystem\u001b[0m\u001b[1;33m.\u001b[0m\u001b[0mresults\u001b[0m\u001b[1;33m)\u001b[0m\u001b[1;33m\u001b[0m\u001b[0m\n",
      "\u001b[1;31mNameError\u001b[0m: name 'T_sidewalk' is not defined"
     ]
    }
   ],
   "source": [
    "condition.set(duration=T_sidewalk)\n",
    "system = make_system(condition)\n",
    "run_odeint(system, slope_func)\n",
    "y_final, v_final = final_state(system.results)"
   ]
  },
  {
   "cell_type": "markdown",
   "metadata": {},
   "source": [
    "La altura final es cercana a 0, como se esperaba. Y la velocidad final es cercana a la velocidad terminal dada."
   ]
  },
  {
   "cell_type": "code",
   "execution_count": 44,
   "metadata": {},
   "outputs": [
    {
     "ename": "NameError",
     "evalue": "name 'y_final' is not defined",
     "output_type": "error",
     "traceback": [
      "\u001b[1;31m---------------------------------------------------------------------------\u001b[0m",
      "\u001b[1;31mNameError\u001b[0m                                 Traceback (most recent call last)",
      "\u001b[1;32m<ipython-input-44-359ab02589ba>\u001b[0m in \u001b[0;36m<module>\u001b[1;34m()\u001b[0m\n\u001b[1;32m----> 1\u001b[1;33m \u001b[0my_final\u001b[0m\u001b[1;33m,\u001b[0m \u001b[0mv_final\u001b[0m\u001b[1;33m\u001b[0m\u001b[0m\n\u001b[0m",
      "\u001b[1;31mNameError\u001b[0m: name 'y_final' is not defined"
     ]
    }
   ],
   "source": [
    "y_final, v_final"
   ]
  },
  {
   "cell_type": "markdown",
   "metadata": {},
   "source": [
    "Aquí está la trama de posición como una función del tiempo"
   ]
  },
  {
   "cell_type": "code",
   "execution_count": 45,
   "metadata": {},
   "outputs": [
    {
     "ename": "NameError",
     "evalue": "name 'plot_position' is not defined",
     "output_type": "error",
     "traceback": [
      "\u001b[1;31m---------------------------------------------------------------------------\u001b[0m",
      "\u001b[1;31mNameError\u001b[0m                                 Traceback (most recent call last)",
      "\u001b[1;32m<ipython-input-45-f4503fd7ddd8>\u001b[0m in \u001b[0;36m<module>\u001b[1;34m()\u001b[0m\n\u001b[1;32m----> 1\u001b[1;33m \u001b[0mplot_position\u001b[0m\u001b[1;33m(\u001b[0m\u001b[0msystem\u001b[0m\u001b[1;33m.\u001b[0m\u001b[0mresults\u001b[0m\u001b[1;33m)\u001b[0m\u001b[1;33m\u001b[0m\u001b[0m\n\u001b[0m\u001b[0;32m      2\u001b[0m \u001b[0msavefig\u001b[0m\u001b[1;33m(\u001b[0m\u001b[1;34m'trama_pos_fun_tiempo-fig02.pdf'\u001b[0m\u001b[1;33m)\u001b[0m\u001b[1;33m\u001b[0m\u001b[0m\n",
      "\u001b[1;31mNameError\u001b[0m: name 'plot_position' is not defined"
     ]
    }
   ],
   "source": [
    "plot_position(system.results)\n",
    "savefig('trama_pos_fun_tiempo-fig02.pdf')"
   ]
  },
  {
   "cell_type": "markdown",
   "metadata": {},
   "source": [
    "Y la velocidad como una función del tiempo:"
   ]
  },
  {
   "cell_type": "code",
   "execution_count": null,
   "metadata": {
    "collapsed": true
   },
   "outputs": [],
   "source": [
    "def plot_velocity(results):\n",
    "    \"\"\"Plot the results.\n",
    "    \n",
    "    results: DataFrame with velocity, v\n",
    "    \"\"\"\n",
    "    newfig()\n",
    "    plot(results.v, label='v')\n",
    "        \n",
    "    decorate(xlabel='Time (s)',\n",
    "             ylabel='Velocity (m/2)')"
   ]
  },
  {
   "cell_type": "code",
   "execution_count": 46,
   "metadata": {},
   "outputs": [
    {
     "ename": "NameError",
     "evalue": "name 'plot_velocity' is not defined",
     "output_type": "error",
     "traceback": [
      "\u001b[1;31m---------------------------------------------------------------------------\u001b[0m",
      "\u001b[1;31mNameError\u001b[0m                                 Traceback (most recent call last)",
      "\u001b[1;32m<ipython-input-46-f1c352793cbe>\u001b[0m in \u001b[0;36m<module>\u001b[1;34m()\u001b[0m\n\u001b[1;32m----> 1\u001b[1;33m \u001b[0mplot_velocity\u001b[0m\u001b[1;33m(\u001b[0m\u001b[0msystem\u001b[0m\u001b[1;33m.\u001b[0m\u001b[0mresults\u001b[0m\u001b[1;33m)\u001b[0m\u001b[1;33m\u001b[0m\u001b[0m\n\u001b[0m",
      "\u001b[1;31mNameError\u001b[0m: name 'plot_velocity' is not defined"
     ]
    }
   ],
   "source": [
    "plot_velocity(system.results)"
   ]
  },
  {
   "cell_type": "markdown",
   "metadata": {},
   "source": [
    "A partir de una velocidad inicial de 0, el centavo se acelera hacia abajo hasta que alcanza la velocidad terminal; después de eso, la velocidad es constante."
   ]
  },
  {
   "cell_type": "markdown",
   "metadata": {},
   "source": [
    "#Hasta aqui"
   ]
  },
  {
   "cell_type": "code",
   "execution_count": 57,
   "metadata": {},
   "outputs": [
    {
     "data": {
      "text/html": [
       "-136.083704279796 meter"
      ],
      "text/latex": [
       "$-136.083704279796\\ \\mathrm{meter}$"
      ],
      "text/plain": [
       "<Quantity(-136.083704279796, 'meter')>"
      ]
     },
     "execution_count": 57,
     "metadata": {},
     "output_type": "execute_result"
    }
   ],
   "source": [
    "y_final, v_final = final_state(system.results)\n",
    "y_final"
   ]
  },
  {
   "cell_type": "markdown",
   "metadata": {},
   "source": [
    "Y podemos verificar la velocidad final."
   ]
  },
  {
   "cell_type": "code",
   "execution_count": 58,
   "metadata": {},
   "outputs": [
    {
     "data": {
      "text/html": [
       "-18.00000000087864 meter/second"
      ],
      "text/latex": [
       "$-18.00000000087864\\ \\frac{\\mathrm{meter}}{\\mathrm{second}}$"
      ],
      "text/plain": [
       "<Quantity(-18.00000000087864, 'meter / second')>"
      ]
     },
     "execution_count": 58,
     "metadata": {},
     "output_type": "execute_result"
    }
   ],
   "source": [
    "v_final"
   ]
  },
  {
   "cell_type": "markdown",
   "metadata": {},
   "source": [
    "Y convertir a km / h"
   ]
  },
  {
   "cell_type": "code",
   "execution_count": 59,
   "metadata": {},
   "outputs": [
    {
     "data": {
      "text/html": [
       "-64.8000000031631 kilometer/hour"
      ],
      "text/latex": [
       "$-64.8000000031631\\ \\frac{\\mathrm{kilometer}}{\\mathrm{hour}}$"
      ],
      "text/plain": [
       "<Quantity(-64.8000000031631, 'kilometer / hour')>"
      ]
     },
     "execution_count": 59,
     "metadata": {},
     "output_type": "execute_result"
    }
   ],
   "source": [
    "km = UNITS.kilometer\n",
    "h = UNITS.hour\n",
    "v_final.to(km / h)"
   ]
  },
  {
   "cell_type": "markdown",
   "metadata": {},
   "source": [
    "Si no hubiera resistencia al aire, el centavo golpearía la acera (o la cabeza de alguien) a más de 300 km / h.\n",
    "\n",
    "Entonces, es bueno que haya resistencia al aire."
   ]
  },
  {
   "cell_type": "code",
   "execution_count": null,
   "metadata": {
    "collapsed": true
   },
   "outputs": [],
   "source": []
  }
 ],
 "metadata": {
  "kernelspec": {
   "display_name": "Python 3",
   "language": "python",
   "name": "python3"
  },
  "language_info": {
   "codemirror_mode": {
    "name": "ipython",
    "version": 3
   },
   "file_extension": ".py",
   "mimetype": "text/x-python",
   "name": "python",
   "nbconvert_exporter": "python",
   "pygments_lexer": "ipython3",
   "version": "3.5.4"
  }
 },
 "nbformat": 4,
 "nbformat_minor": 1
}
